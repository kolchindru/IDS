{
 "cells": [
  {
   "cell_type": "code",
   "execution_count": 1,
   "metadata": {},
   "outputs": [],
   "source": [
    "import pandas as pd"
   ]
  },
  {
   "cell_type": "code",
   "execution_count": 2,
   "metadata": {},
   "outputs": [],
   "source": [
    "df = pd.read_csv(\"***\")\n",
    "pd.options.display.max_columns = 30"
   ]
  },
  {
   "cell_type": "code",
   "execution_count": 3,
   "metadata": {},
   "outputs": [
    {
     "name": "stdout",
     "output_type": "stream",
     "text": [
      "Q1.2 answer: 4\n",
      "Q1.3 answer: 1960\n"
     ]
    }
   ],
   "source": [
    "# Observe top 10 observations (int)\n",
    "# Q1.1 What is the price of a house with `id` == 7237550310?\n",
    "\n",
    "# Q1.2 How many bedrooms has a house with `id` == 7237550310?\n",
    "q12 = df[df['id'] == 7237550310]['bedrooms'].iloc[0]\n",
    "print(f\"Q1.2 answer: {q12}\")\n",
    "\n",
    "# Q1.3 When was the house with `id` == 2414600126 built (`yr_built`)?\n",
    "q13 = df[df['id'] == 2414600126]['yr_built'].iloc[0]\n",
    "print(f\"Q1.3 answer: {q13}\")\n",
    "\n",
    "# Q1.4 What is the `grade` of a house with `id` == 5631500400?\n",
    "# Q1.5 When was the house with `id` == 6414100192 renovated (`yr_renovated`)?\n"
   ]
  },
  {
   "cell_type": "code",
   "execution_count": 4,
   "metadata": {},
   "outputs": [
    {
     "name": "stdout",
     "output_type": "stream",
     "text": [
      "Q2.3 answer: 2009\n",
      "Q2.5 answer: 98065\n"
     ]
    }
   ],
   "source": [
    "# Observe last 10 observations (int)\n",
    "# Q2.1 What is the price of a house with `id` == 263000018?\n",
    "\n",
    "# Q2.2 How many bedrooms has a house with `id` == 291310100?\n",
    "\n",
    "# Q2.3 When was the house with `id` == 1523300141 built (`yr_built`)?\n",
    "q23 = df[df['id'] == 1523300141]['yr_built'].iloc[0]\n",
    "print(f\"Q2.3 answer: {q23}\")\n",
    "\n",
    "# Q2.4 How many floors house with `id` == 2997800021 has?\n",
    "\n",
    "# Q2.5 What is the zipcode of the house with `id` == 7852140040?\n",
    "q25 = df[df['id'] == 7852140040]['zipcode'].iloc[0]\n",
    "print(f\"Q2.5 answer: {q25}\")\n",
    "\n"
   ]
  },
  {
   "cell_type": "code",
   "execution_count": 5,
   "metadata": {},
   "outputs": [],
   "source": [
    "# Increase maximal displayed columns\n",
    "pd.options.display.max_columns = 30\n"
   ]
  },
  {
   "cell_type": "code",
   "execution_count": 6,
   "metadata": {},
   "outputs": [
    {
     "data": {
      "text/html": [
       "<div>\n",
       "<style scoped>\n",
       "    .dataframe tbody tr th:only-of-type {\n",
       "        vertical-align: middle;\n",
       "    }\n",
       "\n",
       "    .dataframe tbody tr th {\n",
       "        vertical-align: top;\n",
       "    }\n",
       "\n",
       "    .dataframe thead th {\n",
       "        text-align: right;\n",
       "    }\n",
       "</style>\n",
       "<table border=\"1\" class=\"dataframe\">\n",
       "  <thead>\n",
       "    <tr style=\"text-align: right;\">\n",
       "      <th></th>\n",
       "      <th>id</th>\n",
       "      <th>date</th>\n",
       "      <th>price</th>\n",
       "      <th>bedrooms</th>\n",
       "      <th>bathrooms</th>\n",
       "      <th>sqft_living</th>\n",
       "      <th>sqft_lot</th>\n",
       "      <th>floors</th>\n",
       "      <th>waterfront</th>\n",
       "      <th>view</th>\n",
       "      <th>condition</th>\n",
       "      <th>grade</th>\n",
       "      <th>sqft_above</th>\n",
       "      <th>sqft_basement</th>\n",
       "      <th>yr_built</th>\n",
       "      <th>yr_renovated</th>\n",
       "      <th>zipcode</th>\n",
       "      <th>lat</th>\n",
       "      <th>long</th>\n",
       "      <th>sqft_living15</th>\n",
       "      <th>sqft_lot15</th>\n",
       "    </tr>\n",
       "  </thead>\n",
       "  <tbody>\n",
       "    <tr>\n",
       "      <td>0</td>\n",
       "      <td>7129300520</td>\n",
       "      <td>20141013T000000</td>\n",
       "      <td>221900.0</td>\n",
       "      <td>3</td>\n",
       "      <td>1.00</td>\n",
       "      <td>1180</td>\n",
       "      <td>5650</td>\n",
       "      <td>1.0</td>\n",
       "      <td>0</td>\n",
       "      <td>0</td>\n",
       "      <td>3</td>\n",
       "      <td>7</td>\n",
       "      <td>1180</td>\n",
       "      <td>0</td>\n",
       "      <td>1955</td>\n",
       "      <td>0</td>\n",
       "      <td>98178</td>\n",
       "      <td>47.5112</td>\n",
       "      <td>-122.257</td>\n",
       "      <td>1340</td>\n",
       "      <td>5650</td>\n",
       "    </tr>\n",
       "    <tr>\n",
       "      <td>1</td>\n",
       "      <td>6414100192</td>\n",
       "      <td>20141209T000000</td>\n",
       "      <td>538000.0</td>\n",
       "      <td>3</td>\n",
       "      <td>2.25</td>\n",
       "      <td>2570</td>\n",
       "      <td>7242</td>\n",
       "      <td>2.0</td>\n",
       "      <td>0</td>\n",
       "      <td>0</td>\n",
       "      <td>3</td>\n",
       "      <td>7</td>\n",
       "      <td>2170</td>\n",
       "      <td>400</td>\n",
       "      <td>1951</td>\n",
       "      <td>1991</td>\n",
       "      <td>98125</td>\n",
       "      <td>47.7210</td>\n",
       "      <td>-122.319</td>\n",
       "      <td>1690</td>\n",
       "      <td>7639</td>\n",
       "    </tr>\n",
       "    <tr>\n",
       "      <td>2</td>\n",
       "      <td>5631500400</td>\n",
       "      <td>20150225T000000</td>\n",
       "      <td>180000.0</td>\n",
       "      <td>2</td>\n",
       "      <td>1.00</td>\n",
       "      <td>770</td>\n",
       "      <td>10000</td>\n",
       "      <td>1.0</td>\n",
       "      <td>0</td>\n",
       "      <td>0</td>\n",
       "      <td>3</td>\n",
       "      <td>6</td>\n",
       "      <td>770</td>\n",
       "      <td>0</td>\n",
       "      <td>1933</td>\n",
       "      <td>0</td>\n",
       "      <td>98028</td>\n",
       "      <td>47.7379</td>\n",
       "      <td>-122.233</td>\n",
       "      <td>2720</td>\n",
       "      <td>8062</td>\n",
       "    </tr>\n",
       "    <tr>\n",
       "      <td>3</td>\n",
       "      <td>2487200875</td>\n",
       "      <td>20141209T000000</td>\n",
       "      <td>604000.0</td>\n",
       "      <td>4</td>\n",
       "      <td>3.00</td>\n",
       "      <td>1960</td>\n",
       "      <td>5000</td>\n",
       "      <td>1.0</td>\n",
       "      <td>0</td>\n",
       "      <td>0</td>\n",
       "      <td>5</td>\n",
       "      <td>7</td>\n",
       "      <td>1050</td>\n",
       "      <td>910</td>\n",
       "      <td>1965</td>\n",
       "      <td>0</td>\n",
       "      <td>98136</td>\n",
       "      <td>47.5208</td>\n",
       "      <td>-122.393</td>\n",
       "      <td>1360</td>\n",
       "      <td>5000</td>\n",
       "    </tr>\n",
       "    <tr>\n",
       "      <td>4</td>\n",
       "      <td>1954400510</td>\n",
       "      <td>20150218T000000</td>\n",
       "      <td>510000.0</td>\n",
       "      <td>3</td>\n",
       "      <td>2.00</td>\n",
       "      <td>1680</td>\n",
       "      <td>8080</td>\n",
       "      <td>1.0</td>\n",
       "      <td>0</td>\n",
       "      <td>0</td>\n",
       "      <td>3</td>\n",
       "      <td>8</td>\n",
       "      <td>1680</td>\n",
       "      <td>0</td>\n",
       "      <td>1987</td>\n",
       "      <td>0</td>\n",
       "      <td>98074</td>\n",
       "      <td>47.6168</td>\n",
       "      <td>-122.045</td>\n",
       "      <td>1800</td>\n",
       "      <td>7503</td>\n",
       "    </tr>\n",
       "    <tr>\n",
       "      <td>5</td>\n",
       "      <td>7237550310</td>\n",
       "      <td>20140512T000000</td>\n",
       "      <td>1225000.0</td>\n",
       "      <td>4</td>\n",
       "      <td>4.50</td>\n",
       "      <td>5420</td>\n",
       "      <td>101930</td>\n",
       "      <td>1.0</td>\n",
       "      <td>0</td>\n",
       "      <td>0</td>\n",
       "      <td>3</td>\n",
       "      <td>11</td>\n",
       "      <td>3890</td>\n",
       "      <td>1530</td>\n",
       "      <td>2001</td>\n",
       "      <td>0</td>\n",
       "      <td>98053</td>\n",
       "      <td>47.6561</td>\n",
       "      <td>-122.005</td>\n",
       "      <td>4760</td>\n",
       "      <td>101930</td>\n",
       "    </tr>\n",
       "    <tr>\n",
       "      <td>6</td>\n",
       "      <td>1321400060</td>\n",
       "      <td>20140627T000000</td>\n",
       "      <td>257500.0</td>\n",
       "      <td>3</td>\n",
       "      <td>2.25</td>\n",
       "      <td>1715</td>\n",
       "      <td>6819</td>\n",
       "      <td>2.0</td>\n",
       "      <td>0</td>\n",
       "      <td>0</td>\n",
       "      <td>3</td>\n",
       "      <td>7</td>\n",
       "      <td>1715</td>\n",
       "      <td>0</td>\n",
       "      <td>1995</td>\n",
       "      <td>0</td>\n",
       "      <td>98003</td>\n",
       "      <td>47.3097</td>\n",
       "      <td>-122.327</td>\n",
       "      <td>2238</td>\n",
       "      <td>6819</td>\n",
       "    </tr>\n",
       "    <tr>\n",
       "      <td>7</td>\n",
       "      <td>2008000270</td>\n",
       "      <td>20150115T000000</td>\n",
       "      <td>291850.0</td>\n",
       "      <td>3</td>\n",
       "      <td>1.50</td>\n",
       "      <td>1060</td>\n",
       "      <td>9711</td>\n",
       "      <td>1.0</td>\n",
       "      <td>0</td>\n",
       "      <td>0</td>\n",
       "      <td>3</td>\n",
       "      <td>7</td>\n",
       "      <td>1060</td>\n",
       "      <td>0</td>\n",
       "      <td>1963</td>\n",
       "      <td>0</td>\n",
       "      <td>98198</td>\n",
       "      <td>47.4095</td>\n",
       "      <td>-122.315</td>\n",
       "      <td>1650</td>\n",
       "      <td>9711</td>\n",
       "    </tr>\n",
       "    <tr>\n",
       "      <td>8</td>\n",
       "      <td>2414600126</td>\n",
       "      <td>20150415T000000</td>\n",
       "      <td>229500.0</td>\n",
       "      <td>3</td>\n",
       "      <td>1.00</td>\n",
       "      <td>1780</td>\n",
       "      <td>7470</td>\n",
       "      <td>1.0</td>\n",
       "      <td>0</td>\n",
       "      <td>0</td>\n",
       "      <td>3</td>\n",
       "      <td>7</td>\n",
       "      <td>1050</td>\n",
       "      <td>730</td>\n",
       "      <td>1960</td>\n",
       "      <td>0</td>\n",
       "      <td>98146</td>\n",
       "      <td>47.5123</td>\n",
       "      <td>-122.337</td>\n",
       "      <td>1780</td>\n",
       "      <td>8113</td>\n",
       "    </tr>\n",
       "    <tr>\n",
       "      <td>9</td>\n",
       "      <td>3793500160</td>\n",
       "      <td>20150312T000000</td>\n",
       "      <td>323000.0</td>\n",
       "      <td>3</td>\n",
       "      <td>2.50</td>\n",
       "      <td>1890</td>\n",
       "      <td>6560</td>\n",
       "      <td>2.0</td>\n",
       "      <td>0</td>\n",
       "      <td>0</td>\n",
       "      <td>3</td>\n",
       "      <td>7</td>\n",
       "      <td>1890</td>\n",
       "      <td>0</td>\n",
       "      <td>2003</td>\n",
       "      <td>0</td>\n",
       "      <td>98038</td>\n",
       "      <td>47.3684</td>\n",
       "      <td>-122.031</td>\n",
       "      <td>2390</td>\n",
       "      <td>7570</td>\n",
       "    </tr>\n",
       "  </tbody>\n",
       "</table>\n",
       "</div>"
      ],
      "text/plain": [
       "           id             date      price  bedrooms  bathrooms  sqft_living  \\\n",
       "0  7129300520  20141013T000000   221900.0         3       1.00         1180   \n",
       "1  6414100192  20141209T000000   538000.0         3       2.25         2570   \n",
       "2  5631500400  20150225T000000   180000.0         2       1.00          770   \n",
       "3  2487200875  20141209T000000   604000.0         4       3.00         1960   \n",
       "4  1954400510  20150218T000000   510000.0         3       2.00         1680   \n",
       "5  7237550310  20140512T000000  1225000.0         4       4.50         5420   \n",
       "6  1321400060  20140627T000000   257500.0         3       2.25         1715   \n",
       "7  2008000270  20150115T000000   291850.0         3       1.50         1060   \n",
       "8  2414600126  20150415T000000   229500.0         3       1.00         1780   \n",
       "9  3793500160  20150312T000000   323000.0         3       2.50         1890   \n",
       "\n",
       "   sqft_lot  floors  waterfront  view  condition  grade  sqft_above  \\\n",
       "0      5650     1.0           0     0          3      7        1180   \n",
       "1      7242     2.0           0     0          3      7        2170   \n",
       "2     10000     1.0           0     0          3      6         770   \n",
       "3      5000     1.0           0     0          5      7        1050   \n",
       "4      8080     1.0           0     0          3      8        1680   \n",
       "5    101930     1.0           0     0          3     11        3890   \n",
       "6      6819     2.0           0     0          3      7        1715   \n",
       "7      9711     1.0           0     0          3      7        1060   \n",
       "8      7470     1.0           0     0          3      7        1050   \n",
       "9      6560     2.0           0     0          3      7        1890   \n",
       "\n",
       "   sqft_basement  yr_built  yr_renovated  zipcode      lat     long  \\\n",
       "0              0      1955             0    98178  47.5112 -122.257   \n",
       "1            400      1951          1991    98125  47.7210 -122.319   \n",
       "2              0      1933             0    98028  47.7379 -122.233   \n",
       "3            910      1965             0    98136  47.5208 -122.393   \n",
       "4              0      1987             0    98074  47.6168 -122.045   \n",
       "5           1530      2001             0    98053  47.6561 -122.005   \n",
       "6              0      1995             0    98003  47.3097 -122.327   \n",
       "7              0      1963             0    98198  47.4095 -122.315   \n",
       "8            730      1960             0    98146  47.5123 -122.337   \n",
       "9              0      2003             0    98038  47.3684 -122.031   \n",
       "\n",
       "   sqft_living15  sqft_lot15  \n",
       "0           1340        5650  \n",
       "1           1690        7639  \n",
       "2           2720        8062  \n",
       "3           1360        5000  \n",
       "4           1800        7503  \n",
       "5           4760      101930  \n",
       "6           2238        6819  \n",
       "7           1650        9711  \n",
       "8           1780        8113  \n",
       "9           2390        7570  "
      ]
     },
     "execution_count": 6,
     "metadata": {},
     "output_type": "execute_result"
    }
   ],
   "source": [
    "# Observe top 10 observations again\n",
    "# Is there any new columns displayed?\n",
    "df.head(10)\n",
    "# Answer: no, because we explicitly note the number of cols displayed from head"
   ]
  },
  {
   "cell_type": "code",
   "execution_count": 7,
   "metadata": {},
   "outputs": [
    {
     "name": "stdout",
     "output_type": "stream",
     "text": [
      "Q3.1 answer: 2\n",
      "Q3.2 answer: 6\n"
     ]
    }
   ],
   "source": [
    "# Print all the columns/features names (int)\n",
    "# n = 0\n",
    "# for item in df.columns:\n",
    "#     if item.startswith(\"sqft_\"):\n",
    "#         n += 1\n",
    "# print(n)\n",
    "\n",
    "# Q3.1 How many columns have `yr_` prefix?\n",
    "q31 = len([columns for columns in df.columns if columns.startswith(\"yr_\")])\n",
    "print(f\"Q3.1 answer: {q31}\")\n",
    "\n",
    "# Q3.2 How many columns have `sqft_` prefix?\n",
    "q32 = len([columns for columns in df.columns if columns.startswith(\"sqft_\")])\n",
    "print(f\"Q3.2 answer: {q32}\")\n",
    "\n",
    "# Q3.3 How many columns assosiated with house location (except `zipcode`) are in the data?\n",
    "\n",
    "# Q3.4 How many columns have `rooms` in their names?\n"
   ]
  },
  {
   "cell_type": "code",
   "execution_count": 8,
   "metadata": {},
   "outputs": [
    {
     "name": "stdout",
     "output_type": "stream",
     "text": [
      "Q4.1 answer: 21613\n",
      "Q4.2 answer: 21\n"
     ]
    }
   ],
   "source": [
    "# Print data size (int)\n",
    "# Q4.1 How many observations are in the data?\n",
    "print(f\"Q4.1 answer: {df.shape[0]}\")\n",
    "\n",
    "# Q4.2 How many features are in the data?\n",
    "print(f\"Q4.2 answer: {df.shape[1]}\")"
   ]
  },
  {
   "cell_type": "code",
   "execution_count": null,
   "metadata": {},
   "outputs": [],
   "source": []
  },
  {
   "cell_type": "code",
   "execution_count": 9,
   "metadata": {},
   "outputs": [
    {
     "name": "stdout",
     "output_type": "stream",
     "text": [
      "Q5.2 answer: 0\n",
      "Q5.5 answer: 0\n"
     ]
    }
   ],
   "source": [
    "# yr_built number of not NaN's in every column (int)\n",
    "# Q5.1 How many NA values are in the `floors` column?\n",
    "\n",
    "# Q5.2 How many NA values are in the `grade` column?\n",
    "print(f\"Q5.2 answer: {len(df[(df['grade'].isna()) | (df['grade'] == 0)])}\")\n",
    "\n",
    "# Q5.3 How many NA values are in the `bedrooms` column?\n",
    "\n",
    "# Q5.4 How many NA values are in the `yr_built` column?\n",
    "\n",
    "# Q5.5 How many explicit NA values are in the `yr_renovated` column?\n",
    "print(f\"Q5.5 answer: {len(df[df['grade'].isna()])}\")\n"
   ]
  },
  {
   "cell_type": "code",
   "execution_count": 10,
   "metadata": {},
   "outputs": [
    {
     "name": "stdout",
     "output_type": "stream",
     "text": [
      "Q6.1 answer: 13\n",
      "Q6.3 answer: 70\n"
     ]
    }
   ],
   "source": [
    "# Count number of unique values in every column (int)\n",
    "# Q6.1 How many unique values are in the `bedrooms` column?\n",
    "print(f\"Q6.1 answer: {df['bedrooms'].nunique()}\")\n",
    "\n",
    "# Q6.2 How many unique values are in the `grade` column?\n",
    "\n",
    "# Q6.3 How many unique values are in the `yr_renovated` column?\n",
    "print(f\"Q6.3 answer: {df['yr_renovated'].nunique()}\")\n",
    "\n",
    "# Q6.4 How many unique values are in the `bathrooms` column?\n",
    "\n",
    "# Q6.5 How many unique values are in the `long` column?\n",
    "\n"
   ]
  },
  {
   "cell_type": "code",
   "execution_count": 11,
   "metadata": {},
   "outputs": [
    {
     "name": "stdout",
     "output_type": "stream",
     "text": [
      "Q7.1 answer: [10680, 8241, 1910, 613, 161, 8]\n",
      "Q7.5 answer: [19489, 963, 510, 332, 319]\n"
     ]
    }
   ],
   "source": [
    "# Count frequency of the values in different columns (list of ints in ascending order)\n",
    "# You could select a column using same syntax as for selecting a key from a dictionary: `data[colname]`\n",
    "# Q7.1 For every unique `floors` value give its number of occurences.\n",
    "print(f\"Q7.1 answer: {list(df['floors'].value_counts())}\")\n",
    "\n",
    "# Q7.2 For every unique `condition` value give its number of occurences.\n",
    "\n",
    "# Q7.3 For every unique `bedrooms` value give its number of occurences.\n",
    "\n",
    "# Q7.4 For every unique `grade` value give its number of occurences.\n",
    "\n",
    "# Q7.5 For every unique `view` value give its number of occurences.\n",
    "print(f\"Q7.5 answer: {list(df['view'].value_counts())}\")\n"
   ]
  },
  {
   "cell_type": "code",
   "execution_count": 12,
   "metadata": {},
   "outputs": [],
   "source": [
    "# Display basic data statistics using .describe()\n",
    "describe = df.describe()\n",
    "describe = describe.apply(lambda x: round(x, 3))"
   ]
  },
  {
   "cell_type": "code",
   "execution_count": 13,
   "metadata": {},
   "outputs": [
    {
     "name": "stdout",
     "output_type": "stream",
     "text": [
      "Q8.1 answer: [3.5, 1.0, 1.494, 0.54]\n",
      "Q8.4 answer: [13540.0, 290.0, 2079.9, 918.441]\n"
     ]
    }
   ],
   "source": [
    "# Display some column statistics (list of floats, rounded up to 3 digits, e.g. 1.234)\n",
    "\n",
    "# Q8.1 What are the max, min, mean and the std of the `floors` column?\n",
    "print(f\"Q8.1 answer: {[describe['floors']['max'], describe['floors']['min'], describe['floors']['mean'], describe['floors']['std']]}\")\n",
    "\n",
    "# Q8.2 What are the max, min, mean and the std of the `bedrooms` column?\n",
    "\n",
    "# Q8.3 What are the max, min, mean and the std of the `sqft_living` column?\n",
    "print(f\"Q8.4 answer: {[describe['sqft_living']['max'], describe['sqft_living']['min'], describe['sqft_living']['mean'], describe['sqft_living']['std']]}\")\n",
    "\n",
    "# Q8.4 What are the max, min, mean and the std of the `pice` column?\n",
    "\n",
    "# Q8.5 What are the max, min, mean and the std of the `long` column?\n",
    "\n"
   ]
  },
  {
   "cell_type": "code",
   "execution_count": 14,
   "metadata": {},
   "outputs": [
    {
     "name": "stdout",
     "output_type": "stream",
     "text": [
      "Q9.1 answer: 1\n",
      "Q9.4 answer: ['bathrooms', 'floors', 'lat', 'long', 'price']\n"
     ]
    }
   ],
   "source": [
    "# Display data types of all columns (int)\n",
    "# Q9.1 How many columns have `object` data type?\n",
    "print(f\"Q9.1 answer: {len([column for column, dtype in df.dtypes.iteritems() if dtype == 'object'])}\")\n",
    "\n",
    "# Q9.2 How many columns have `int64` data type?\n",
    "# Q9.3 How many columns have `float64` data type?\n",
    "\n",
    "# Display data types of all columns (list of str)\n",
    "# Q9.4 What are the columns with dtype == `float64`?\n",
    "print(f\"Q9.4 answer: {sorted([column for column, dtype in df.dtypes.iteritems() if dtype == 'float64'])}\")\n",
    "\n",
    "# Q9.5 What are the columns with dtype == `int64`?"
   ]
  },
  {
   "cell_type": "code",
   "execution_count": 15,
   "metadata": {},
   "outputs": [],
   "source": [
    "# setting DataFrame index to be an `id` column, now .loc and .iloc will have different behavior\n",
    "df.index = df.id\n",
    "\n",
    "# dropping `id` column, since now it is an index\n",
    "df.drop('id', axis=1, inplace=True)\n",
    "\n",
    "# sort data by index for clarity\n",
    "df.sort_index(inplace=True)"
   ]
  },
  {
   "cell_type": "code",
   "execution_count": 16,
   "metadata": {},
   "outputs": [
    {
     "name": "stdout",
     "output_type": "stream",
     "text": [
      "Q10.2 answer: 2007\n",
      "Q10.3 answer: 1\n"
     ]
    }
   ],
   "source": [
    "# Select rows by position (int) \n",
    "# Q10.1 How many bedrooms have a house on row 777?\n",
    "# Q10.2 When was built a house on row 9999?\n",
    "print(f\"Q10.2 answer: {df.iloc[9999]['yr_built']}\")\n",
    "\n",
    "# Q10.3 How many floors have a house on row 1337?\n",
    "print(f\"Q10.3 answer: {int(df.iloc[1337]['floors'])}\")\n",
    "\n",
    "# Q10.4 How many bathrooms have a house on row 314?\n",
    "# Q10.5 What is the grade of a house on row 2718?\n"
   ]
  },
  {
   "cell_type": "code",
   "execution_count": 17,
   "metadata": {},
   "outputs": [
    {
     "name": "stdout",
     "output_type": "stream",
     "text": [
      "Q11.3 answer: 1984\n",
      "Q11.5 answer: 13540\n"
     ]
    }
   ],
   "source": [
    "# Select rows by index (int)\n",
    "# Q11.1 How many times the house with index 1000102 were sold?\n",
    "\n",
    "# Q11.2 What is the price of the house with index 9842300095?\n",
    "\n",
    "# Q11.3 When was built the house with index 104510440?\n",
    "print(f\"Q11.3 answer: {df.loc[104510440]['yr_built']}\")\n",
    "\n",
    "# Q11.4 What is the condition of a house with index 252000300?\n",
    "\n",
    "# Q11.5 What is the living area (in square feets) of the house with index 1225069038?\n",
    "print(f\"Q11.5 answer: {df.loc[1225069038]['sqft_living']}\")\n",
    "\n"
   ]
  },
  {
   "cell_type": "code",
   "execution_count": 18,
   "metadata": {},
   "outputs": [
    {
     "name": "stdout",
     "output_type": "stream",
     "text": [
      "Q12.2 answer: 2006\n",
      "Q12.5 answer: 8\n"
     ]
    }
   ],
   "source": [
    "# Using mask or .query syntax select rows/columns (int)\n",
    "# Q12.1 How many houses were built during American Great Depression (1929–1939)? Including both start and end year.\n",
    "\n",
    "# Q12.2 When was built the only house with basement area = 1024 sqft?\n",
    "print(f\"Q12.2 answer: {df[df['sqft_basement'] == 1024].iloc[0]['yr_built']}\")\n",
    "\n",
    "# Q12.3 How many houses are with the highest possible grade?\n",
    "\n",
    "# Q12.4 When was built a house with maximal number of bedrooms?\n",
    "\n",
    "# Q12.5 How many houses were sold for 256000 dollars?\n",
    "print(f\"Q12.5 answer: {len(df[df['price'] == 256000])}\")\n",
    "\n"
   ]
  },
  {
   "cell_type": "code",
   "execution_count": 19,
   "metadata": {},
   "outputs": [
    {
     "name": "stdout",
     "output_type": "stream",
     "text": [
      "Q13.3 answer: 20\n",
      "Q13.4 answer: 1180000\n"
     ]
    }
   ],
   "source": [
    "# Using mask or .query syntax select rows/columns (int)\n",
    "len(df[(df['sqft_living'] < 2000) & (df['bedrooms'] == 6)])\n",
    "# Q13.1 How many houses with the waterfront (=1) were built duroing Nixon's presidency (1969—1974)? Including both start and end year.\n",
    "\n",
    "# Q13.2 How many houses, built before first human in space (<1961), have high condition (=5)?\n",
    "\n",
    "# Q13.3 How many houses are with 6 bedrooms and less than 2000 sqft living area?\n",
    "print(f\"Q13.3 answer: {len(df[(df['bedrooms'] == 6) & (df['sqft_living'] < 2000)])}\")\n",
    "\n",
    "# Q13.4 What was the price of a house with 5 bathrooms, built in 1998 and graded with 10 score?\n",
    "print(f\"Q13.4 answer: {int(df[(df['bathrooms'] == 5) & (df['yr_built'] == 1998) & (df['grade'] == 10)].iloc[0]['price'])}\")\n",
    "\n",
    "# Q13.5 How many floors has a house built in 1999 with 5 bedrooms and 3400 sqft living area?\n",
    "\n"
   ]
  },
  {
   "cell_type": "code",
   "execution_count": 20,
   "metadata": {},
   "outputs": [
    {
     "name": "stdout",
     "output_type": "stream",
     "text": [
      "Q14.2 answer: 5300000.0\n",
      "Q14.4 answer: 3.25\n"
     ]
    }
   ],
   "source": [
    "# Using mask or .query syntax select rows/columns and compute simple statistics (float)\n",
    "# Q14.1 What was the average (sold) price of a houses built in the year of Cuban Missile Crisis (1962)?\n",
    "\n",
    "# Q14.2 What was the price of the most expensive house sold, built between 1991 and 2000?\n",
    "print(f\"Q14.2 answer: {df[(df['yr_built'] <= 2000) & (df['yr_built'] >= 1991)]['price'].max()}\")\n",
    "\n",
    "# Q14.3 What was the least expensive house sold in the last decade of 20th centuary?\n",
    "\n",
    "# Q14.4 What is the median number of bathrooms in houses with grade above 9 (10 and more)?\n",
    "print(f\"Q14.4 answer: {df[df['grade'] >= 10]['bathrooms'].median()}\")\n",
    "\n",
    "# Q14.5 What is the median grade of houses with most popular zipcode value?\n",
    "\n"
   ]
  },
  {
   "cell_type": "code",
   "execution_count": null,
   "metadata": {},
   "outputs": [],
   "source": []
  },
  {
   "cell_type": "code",
   "execution_count": 21,
   "metadata": {},
   "outputs": [
    {
     "data": {
      "text/plain": [
       "0    20699\n",
       "1      914\n",
       "Name: was_renovated, dtype: int64"
      ]
     },
     "execution_count": 21,
     "metadata": {},
     "output_type": "execute_result"
    }
   ],
   "source": [
    "# Create `was_renovated` column. Bool column (0, 1) indicating whether the house was renovated.\n",
    "df['was_renovated'] = df['yr_renovated'].apply(lambda year: 1 if year else 0)\n",
    "df['was_renovated'].value_counts()"
   ]
  },
  {
   "cell_type": "code",
   "execution_count": 22,
   "metadata": {},
   "outputs": [],
   "source": [
    "# Create new columns using the old ones (new column in your DataFrame)\n",
    "# Q15.1 Create a `sqft_tot_area` column (sum of all columns with `sqft_` prefix) using any method above\n",
    "df['sqft_tot_area'] = df['sqft_living'] + df['sqft_lot'] + df['sqft_above'] + df['sqft_basement'] + df['sqft_living15'] + df['sqft_lot15']\n",
    "\n",
    "# Q15.2 Create a new column `sqm_tot_area` using `sqft_tot_area` and the fact that 1 foot = 0.3048 meters\n",
    "df['sqm_tot_area'] = df['sqft_tot_area'] * 0.3048 * 0.3048\n",
    "\n",
    "# Q15.3 Create a new column `sqm_aver_floor_area` by dividing total area (in meters) by number of floors\n",
    "df['sqm_over_floor_area'] = df['sqm_tot_area'] / df['floors']\n",
    "\n",
    "# Q15.4 Create a new column `price_cat` by splitting a `price` into 5 ([1..5]) distinct intervals: 0 < x <=20%,\n",
    "# 20% < x <= 40%, ... 80% < x <= 100% percentiles. You could use `.quantile()` to compute percentiles.\n",
    "df['price_cat'] = df['price'].apply(lambda price: ((price / df['price'].max()) // (1/5) if (price / df['price'].max()) % (1/5) != 0 else (price / df['price'].max()) // (1/5) - 1) + 1)\n",
    "\n",
    "# Q15.5 Create a new bool column `high_class` it is True if the house has grade >= 9 and condition >= 4\n",
    "df['high_class'] = df.apply(lambda row: (row['grade'] >= 9) & (row['condition'] >= 4), axis=1)\n"
   ]
  },
  {
   "cell_type": "code",
   "execution_count": 23,
   "metadata": {},
   "outputs": [
    {
     "name": "stdout",
     "output_type": "stream",
     "text": [
      "Q16.1 answer: 1146802.328\n",
      "Q16.3 answer: 3.5\n"
     ]
    }
   ],
   "source": [
    "# Using mask or .query syntax select rows/columns (float)\n",
    "\n",
    "# Q16.1 What is the average price of the house of the high_class(=True)?\n",
    "q161 = df[df['high_class'] == True]['price'].mean()\n",
    "print(f\"Q16.1 answer: {round(q161, 3)}\")\n",
    "\n",
    "# Q16.2 What is the average total_area (in meters) of the house from highest price category?\n",
    "\n",
    "# Q16.3 What is the maximal number of floors amongst houses with the lowest price category?\n",
    "q163 = df[df['price_cat'] == 1]['floors'].max()\n",
    "print(f\"Q16.3 answer: {round(q163, 3)}\")\n",
    "\n",
    "# Q16.4 What is the most frequent zipcode amongst houses with the lowest price category?\n",
    "\n",
    "# Q16.5 What is the minimal number of bathrooms in houses with high_class=True?\n"
   ]
  },
  {
   "cell_type": "code",
   "execution_count": null,
   "metadata": {},
   "outputs": [],
   "source": []
  },
  {
   "cell_type": "code",
   "execution_count": 24,
   "metadata": {},
   "outputs": [],
   "source": [
    "# Create new columns based on `date` column\n",
    "\n",
    "# Q17.1 Convert date to datetime format\n",
    "df['date'] = pd.to_datetime(df['date'])\n",
    "\n",
    "# Q17.2 Extract and store `year`\n",
    "df['year'] = df['date'].apply(lambda date: date.year)\n",
    "\n",
    "# Q17.3 Extract and store `month`\n",
    "df['month'] = df['date'].apply(lambda date: date.month)\n",
    "\n",
    "# Q17.4 Extract and store `day`\n",
    "df['day'] = df['date'].apply(lambda date: date.day)\n",
    "\n",
    "# Q17.5 Extract and store `weekday`\n",
    "df['weekday'] = df['date'].apply(lambda date: date.weekday())\n",
    "\n",
    "# Q17.6 Create a new column `house_age_10` - the age of the house in full decades (e.g. 9 year old house - 0, 21 year old house - 2),\n",
    "# using `yr_built` and 'year' columns\n",
    "df['house_age_10'] = df.apply(lambda row: max((row['year'] - row['yr_built']) // 10, 0), axis=1)\n"
   ]
  },
  {
   "cell_type": "code",
   "execution_count": 25,
   "metadata": {},
   "outputs": [],
   "source": [
    "# Drop column `date`\n",
    "df = df.drop(columns=['date'])"
   ]
  },
  {
   "cell_type": "code",
   "execution_count": 26,
   "metadata": {},
   "outputs": [
    {
     "name": "stdout",
     "output_type": "stream",
     "text": [
      "Q18.1 answer: 1\n",
      "Q18.4 answer: 38.786\n"
     ]
    }
   ],
   "source": [
    "# Find some date related information from the data (int)\n",
    "\n",
    "# Q18.1 What is the most popular selling weekday?\n",
    "print(f\"Q18.1 answer: {df['weekday'].value_counts().idxmax()}\")\n",
    "\n",
    "# Q18.2 What is the most popular selling month?\n",
    "\n",
    "# Q18.3 What is the least popular selling weekday?\n",
    "\n",
    "# Q18.4 What is the median age of the house (on a first available sold date)? (float)\n",
    "print(f\"Q18.4 answer: {round(df['house_age_10'].mean() * 10, 3)}\")\n",
    "\n",
    "# Q18.5 How many houses were sold on America's Independence Day (July, 4)?\n",
    "\n"
   ]
  },
  {
   "cell_type": "code",
   "execution_count": 27,
   "metadata": {},
   "outputs": [],
   "source": [
    "# Create some groupby features\n",
    "\n",
    "# Q19.1 `price_by_class` groupby `high_class` and compute median `price`.\n",
    "\n",
    "# Q19.2 `price_by_year` groupby `year` and compute median price.\n",
    "group = df.groupby(['year'])['price'].median()\n",
    "df['price_by_year'] = df['year'].map(group)\n",
    "\n",
    "# Q19.3 `price_by_weekday` groupby `weekday` and compute median price.\n",
    "\n",
    "# Q19.4 `area_by_price` groupby `price_cat` and compute average `sqft_living`.\n",
    "\n",
    "# Q19.5 `floors_by_age` groupby `floors` and compute average age of a house.\n",
    "group2 = df.groupby('floors')['house_age_10'].mean()\n",
    "df['floors_by_age'] = df['floors'].map(group2)\n"
   ]
  },
  {
   "cell_type": "code",
   "execution_count": 28,
   "metadata": {},
   "outputs": [],
   "source": [
    "# Create some other groupby features\n",
    "# for this task check out this answer:\n",
    "# https://stackoverflow.com/questions/47913343/how-to-groupby-and-map-by-two-columns-pandas-dataframe\n",
    "\n",
    "# Q20.1 `n_houses_zipcode` groupby `zipcode` and count number of occurences of every unique zipcode\n",
    "\n",
    "# Q20.2 `n_houses_yr_built` groupby `yr_built` and count number of houses built in each year\n",
    "group = df.groupby(['yr_built']).size()\n",
    "df['n_houses_yr_built'] = df['yr_built'].map(group)\n",
    "\n",
    "# Q20.3 `price_by_yr_month_`(median, std) groupby `year`, `month` and compute median and std `price`.\n",
    "\n",
    "# Q20.4 `price_by_grade_age_`(median, std) groupby `grade`, `house_age` and compute median and std `price`.\n",
    "group = df.groupby(['grade', 'house_age_10'])['price'].median().reset_index(level=['grade', 'house_age_10'])\n",
    "group.rename(columns={\"price\": \"price_by_grade_age_median\"}, inplace=True)\n",
    "group2 = df.groupby(['grade', 'house_age_10'])['price'].std().reset_index(level=['grade', 'house_age_10'])\n",
    "group2.rename(columns={\"price\": \"price_by_grade_age_std\"}, inplace=True)\n",
    "df['price_by_grade_age_median'] = pd.merge(df.reset_index(), group, on=['grade', 'house_age_10'], how='left').fillna(0).set_index('id')['price_by_grade_age_median']\n",
    "df['price_by_grade_age_std'] = pd.merge(df.reset_index(), group2, on=['grade', 'house_age_10'], how='left').fillna(0).set_index('id')['price_by_grade_age_std']"
   ]
  },
  {
   "cell_type": "code",
   "execution_count": 29,
   "metadata": {},
   "outputs": [],
   "source": [
    "# Q21 Drop all generated features which used price column, e.g. price_by_year, price_cat.\n",
    "df.drop(['price_cat', 'price_by_grade_age_median', 'price_by_grade_age_std'], axis=1, inplace=True)"
   ]
  },
  {
   "cell_type": "code",
   "execution_count": 30,
   "metadata": {},
   "outputs": [
    {
     "name": "stdout",
     "output_type": "stream",
     "text": [
      "<class 'pandas.core.frame.DataFrame'>\n",
      "Int64Index: 21613 entries, 1000102 to 9900000190\n",
      "Data columns (total 32 columns):\n",
      "price                  21613 non-null float64\n",
      "bedrooms               21613 non-null int64\n",
      "bathrooms              21613 non-null float64\n",
      "sqft_living            21613 non-null int64\n",
      "sqft_lot               21613 non-null int64\n",
      "floors                 21613 non-null float64\n",
      "waterfront             21613 non-null int64\n",
      "view                   21613 non-null int64\n",
      "condition              21613 non-null int64\n",
      "grade                  21613 non-null int64\n",
      "sqft_above             21613 non-null int64\n",
      "sqft_basement          21613 non-null int64\n",
      "yr_built               21613 non-null int64\n",
      "yr_renovated           21613 non-null int64\n",
      "zipcode                21613 non-null int64\n",
      "lat                    21613 non-null float64\n",
      "long                   21613 non-null float64\n",
      "sqft_living15          21613 non-null int64\n",
      "sqft_lot15             21613 non-null int64\n",
      "was_renovated          21613 non-null int64\n",
      "sqft_tot_area          21613 non-null int64\n",
      "sqm_tot_area           21613 non-null float64\n",
      "sqm_over_floor_area    21613 non-null float64\n",
      "high_class             21613 non-null bool\n",
      "year                   21613 non-null int64\n",
      "month                  21613 non-null int64\n",
      "day                    21613 non-null int64\n",
      "weekday                21613 non-null int64\n",
      "house_age_10           21613 non-null int64\n",
      "price_by_year          21613 non-null float64\n",
      "floors_by_age          21613 non-null float64\n",
      "n_houses_yr_built      21613 non-null int64\n",
      "dtypes: bool(1), float64(9), int64(22)\n",
      "memory usage: 5.9 MB\n"
     ]
    }
   ],
   "source": [
    "df.info()"
   ]
  },
  {
   "cell_type": "code",
   "execution_count": 31,
   "metadata": {},
   "outputs": [],
   "source": [
    "from sklearn.preprocessing import OneHotEncoder\n",
    "\n",
    "cat_cols = ['zipcode', 'high_class']\n",
    "\n",
    "df = df.join(pd.get_dummies(df.zipcode, prefix='Zipcode'))\n",
    "df = df.join(pd.get_dummies(df.high_class, prefix='high_class'))"
   ]
  },
  {
   "cell_type": "code",
   "execution_count": 32,
   "metadata": {},
   "outputs": [
    {
     "name": "stdout",
     "output_type": "stream",
     "text": [
      "Q22 answer: [16174, 7967]\n"
     ]
    }
   ],
   "source": [
    "# Q22 Split your data into train and test parts.\n",
    "from sklearn.model_selection import train_test_split\n",
    "\n",
    "# How many records (rows) do you have in train and test tables? (list of int)?\n",
    "# Use sklearn.model_selection.train_test_split with test_size=0.33 and random_state=7\n",
    "X_train, X_test, y_train, y_test = train_test_split(df.drop(columns = 'price'), df['price'], test_size=0.33, random_state=7)\n",
    "print(f\"Q22 answer: {[len(X_train), len(X_test)]}\")"
   ]
  },
  {
   "cell_type": "code",
   "execution_count": 34,
   "metadata": {},
   "outputs": [],
   "source": [
    "pd.options.display.max_columns = 33"
   ]
  },
  {
   "cell_type": "code",
   "execution_count": 35,
   "metadata": {},
   "outputs": [],
   "source": [
    "from sklearn.preprocessing import StandardScaler\n",
    "\n",
    "scaler = StandardScaler()\n",
    "scaled_X_train = scaler.fit_transform(X_train.values)\n",
    "scaled_X_test = scaler.fit_transform(X_test.values)\n",
    "\n",
    "scaled_X_train = pd.DataFrame(scaled_X_train, index=X_train.index, columns=X_train.columns)\n",
    "scaled_X_test = pd.DataFrame(scaled_X_test, index=X_test.index, columns=X_test.columns)"
   ]
  },
  {
   "cell_type": "code",
   "execution_count": 38,
   "metadata": {},
   "outputs": [],
   "source": [
    "X_train = scaled_X_train\n",
    "X_test = scaled_X_test"
   ]
  },
  {
   "cell_type": "code",
   "execution_count": 39,
   "metadata": {
    "scrolled": true
   },
   "outputs": [],
   "source": [
    "# Create a predictive regression model of a house price.\n",
    "\n",
    "# Q23.1 Use linear regression with l2 regularization (Ridge regression)\n",
    "from sklearn.linear_model import Ridge\n",
    "ridge_clf = Ridge(alpha=1.0)\n",
    "ridge_clf = ridge_clf.fit(X_train, y_train)\n",
    "y_ridge_pred = ridge_clf.predict(X_test)\n",
    "\n",
    "# Q23.2 Use decision tree regression\n",
    "\n",
    "# Q23.3 Use k nearest neighbours regression\n",
    "from sklearn.neighbors import KNeighborsClassifier\n",
    "knn_clf = KNeighborsClassifier(n_neighbors=5)\n",
    "knn_clf = knn_clf.fit(X_train, y_train)\n",
    "y_knn_pred = knn_clf.predict(X_test)"
   ]
  },
  {
   "cell_type": "code",
   "execution_count": 41,
   "metadata": {},
   "outputs": [
    {
     "name": "stdout",
     "output_type": "stream",
     "text": [
      "Fitting 5 folds for each of 20 candidates, totalling 100 fits\n"
     ]
    },
    {
     "name": "stderr",
     "output_type": "stream",
     "text": [
      "[Parallel(n_jobs=-1)]: Using backend LokyBackend with 8 concurrent workers.\n",
      "[Parallel(n_jobs=-1)]: Done  34 tasks      | elapsed:    3.7s\n",
      "[Parallel(n_jobs=-1)]: Done 100 out of 100 | elapsed:    4.8s finished\n",
      "C:\\Anaconda\\lib\\site-packages\\sklearn\\model_selection\\_split.py:672: UserWarning: The least populated class in y has only 1 members, which is less than n_splits=5.\n",
      "  % (min_groups, self.n_splits)), UserWarning)\n"
     ]
    },
    {
     "name": "stdout",
     "output_type": "stream",
     "text": [
      "Fitting 5 folds for each of 10 candidates, totalling 50 fits\n"
     ]
    },
    {
     "name": "stderr",
     "output_type": "stream",
     "text": [
      "[Parallel(n_jobs=-1)]: Using backend LokyBackend with 8 concurrent workers.\n",
      "[Parallel(n_jobs=-1)]: Done  34 tasks      | elapsed:  1.4min\n",
      "[Parallel(n_jobs=-1)]: Done  50 out of  50 | elapsed:  1.9min finished\n"
     ]
    }
   ],
   "source": [
    "# Use grid search to select optimal hyperparamters of your models. \n",
    "from sklearn.model_selection import GridSearchCV\n",
    "from tqdm import tqdm\n",
    "import numpy as np \n",
    "\n",
    "# Q24.1 Alpha for a ridge regression\n",
    "ridge_parameters = {'alpha':np.logspace(-5, 1, 20)}\n",
    "\n",
    "# Let's set MSE as evalation metric and set a 10-step cross validation\n",
    "ridge_grided_clf = GridSearchCV(ridge_clf, ridge_parameters, n_jobs = -1, verbose=1)\n",
    "ridge_grided_clf = ridge_grided_clf.fit(X_train, y_train)\n",
    "ridge_grided_clf = ridge_grided_clf.best_estimator_\n",
    "ridge_grided_clf = ridge_grided_clf.fit(X_train, y_train)\n",
    "\n",
    "# Q24.2 Depth for the tree\n",
    "\n",
    "# Q24.3 Number of neighbours for the knn\n",
    "n_neighbors = list(range(3,22, 2))\n",
    "param_grid = dict(n_neighbors=n_neighbors)\n",
    "\n",
    "# Let's set accuracy as evalation metric and set a 10-step cross validation\n",
    "knn_grideed_clf = GridSearchCV(knn_clf, param_grid, n_jobs = -1, verbose=1)\n",
    "knn_grideed_clf.fit(X_train, y_train)\n",
    "knn_grideed_clf = knn_grideed_clf.best_estimator_\n",
    "knn_grideed_clf = knn_grideed_clf.fit(X_train, y_train)"
   ]
  },
  {
   "cell_type": "code",
   "execution_count": 42,
   "metadata": {},
   "outputs": [
    {
     "name": "stdout",
     "output_type": "stream",
     "text": [
      "Ridge regression train MSE = 25409541693.56206\n",
      "Ridge regression test MSE = 22457605549.665222\n",
      "KNN test MSE = 38419987866.0993\n",
      "KNN train MSE = 41427219929.799545\n"
     ]
    }
   ],
   "source": [
    "# Compute train and test mean squared error for your best models (list of float).\n",
    "from sklearn.metrics import mean_squared_error as mse\n",
    "\n",
    "# Q25.1 Train, test MSE using linear regression with l2 regularization\n",
    "y_train_ridge_pred = ridge_grided_clf.predict(X_train)\n",
    "Ridge_train_MSE = mse(y_train_ridge_pred, y_train)\n",
    "print(f\"Ridge regression train MSE = {Ridge_train_MSE}\")\n",
    "\n",
    "y_test_ridge_pred = ridge_grided_clf.predict(X_test)\n",
    "Ridge_test_MSE = mse(y_test_ridge_pred, y_test)\n",
    "print(f\"Ridge regression test MSE = {Ridge_test_MSE}\")\n",
    "\n",
    "# Q25.2 Train, test MSE using decision tree regression\n",
    "\n",
    "# Q25.3 Train, test MSE using k nearest neighbours regression\n",
    "y_knn_train_pred = knn_grideed_clf.predict(X_train)\n",
    "knn_train_MSE = mse(y_train, y_knn_train_pred)\n",
    "print(f\"KNN test MSE = {knn_train_MSE}\")\n",
    "\n",
    "y_knn_test_pred = knn_grideed_clf.predict(X_test)\n",
    "knn_test_MSE = mse(y_test, y_knn_test_pred)\n",
    "print(f\"KNN train MSE = {knn_test_MSE}\")\n"
   ]
  },
  {
   "cell_type": "code",
   "execution_count": 43,
   "metadata": {},
   "outputs": [
    {
     "name": "stdout",
     "output_type": "stream",
     "text": [
      "Ridge regression train r2 = 0.7683548063464813\n",
      "Ridge regression test r2 = 0.7918095888231801\n",
      "KNN train r2 = 0.7156407924381096\n",
      "KNN test r2 = 0.6641050873154074\n"
     ]
    }
   ],
   "source": [
    "# Compute train and test R^2 for your best models (list of float).\n",
    "from sklearn.metrics import r2_score\n",
    "# Q26.1 Train, test R^2 using linear regression with l2 regularization\n",
    "Ridge_train_r2 = r2_score(y_train_ridge_pred, y_train)\n",
    "print(f\"Ridge regression train r2 = {Ridge_train_r2}\")\n",
    "\n",
    "Ridge_test_r2 = r2_score(y_test_ridge_pred, y_test)\n",
    "print(f\"Ridge regression test r2 = {Ridge_test_r2}\")\n",
    "\n",
    "# Q26.2 Train, test R^2 using decision tree regression\n",
    "\n",
    "# Q26.3 Train, test R^2 using k nearest neighbours regression\n",
    "knn_train_r2 = r2_score(y_train, y_knn_train_pred)\n",
    "print(f\"KNN train r2 = {knn_train_r2}\")\n",
    "\n",
    "knn_test_r2 = r2_score(y_test, y_knn_test_pred)\n",
    "print(f\"KNN test r2 = {knn_test_r2}\")"
   ]
  },
  {
   "cell_type": "code",
   "execution_count": 47,
   "metadata": {},
   "outputs": [
    {
     "name": "stdout",
     "output_type": "stream",
     "text": [
      "Top 5 features are\n",
      "1: yr_built\n",
      "2: sqft_lot15\n",
      "3: grade\n",
      "4: bathrooms\n",
      "5: Zipcode_98003\n",
      "Q27 answer: ['yr_built', 'sqft_lot15', 'grade', 'bathrooms', 'Zipcode_98003']\n"
     ]
    }
   ],
   "source": [
    "weights_dict = dict(zip(df.columns, ridge_grided_clf.coef_))\n",
    "weights_df = pd.DataFrame.from_dict(weights_dict, orient='index')\n",
    "weights_df = weights_df.apply(lambda x: abs(x))\n",
    "top_features = weights_df.sort_values(by=0, ascending=False).head(5).index\n",
    "print(\"Top 5 features are\")\n",
    "for idx, feature in enumerate(top_features):\n",
    "    print(f\"{idx + 1}: {feature}\")\n",
    "    \n",
    "print(f\"Q27 answer: {list(top_features)}\")"
   ]
  }
 ],
 "metadata": {
  "kernelspec": {
   "display_name": "Python 3",
   "language": "python",
   "name": "python3"
  },
  "language_info": {
   "codemirror_mode": {
    "name": "ipython",
    "version": 3
   },
   "file_extension": ".py",
   "mimetype": "text/x-python",
   "name": "python",
   "nbconvert_exporter": "python",
   "pygments_lexer": "ipython3",
   "version": "3.7.4"
  }
 },
 "nbformat": 4,
 "nbformat_minor": 2
}
