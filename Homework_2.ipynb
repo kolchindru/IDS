{
 "cells": [
  {
   "cell_type": "code",
   "execution_count": 1,
   "metadata": {
    "id": "IxQ5oO5xbtyW"
   },
   "outputs": [],
   "source": [
    "import pandas as pd\n",
    "import numpy as np\n",
    "import matplotlib.pyplot as plt\n",
    "import matplotlib as mpl\n",
    "%matplotlib inline\n",
    "import seaborn as sns\n",
    "sns.set()\n",
    "\n",
    "def ans(q, an):\n",
    "    print(f\"The answer for Q{q} is: {an}\")"
   ]
  },
  {
   "cell_type": "code",
   "execution_count": 7,
   "metadata": {
    "id": "mBWPB2ajcTnj"
   },
   "outputs": [],
   "source": [
    "df = pd.read_csv('***')\n",
    "df.set_index(\"ID\", inplace=True)"
   ]
  },
  {
   "cell_type": "code",
   "execution_count": 8,
   "metadata": {
    "colab": {
     "base_uri": "https://localhost:8080/",
     "height": 634
    },
    "id": "bA52wUNelGmZ",
    "outputId": "25210925-6577-4d9b-8232-14edced3711b"
   },
   "outputs": [
    {
     "data": {
      "text/html": [
       "<div>\n",
       "<style scoped>\n",
       "    .dataframe tbody tr th:only-of-type {\n",
       "        vertical-align: middle;\n",
       "    }\n",
       "\n",
       "    .dataframe tbody tr th {\n",
       "        vertical-align: top;\n",
       "    }\n",
       "\n",
       "    .dataframe thead th {\n",
       "        text-align: right;\n",
       "    }\n",
       "</style>\n",
       "<table border=\"1\" class=\"dataframe\">\n",
       "  <thead>\n",
       "    <tr style=\"text-align: right;\">\n",
       "      <th></th>\n",
       "      <th>name</th>\n",
       "      <th>category</th>\n",
       "      <th>main_category</th>\n",
       "      <th>currency</th>\n",
       "      <th>deadline</th>\n",
       "      <th>goal</th>\n",
       "      <th>launched</th>\n",
       "      <th>pledged</th>\n",
       "      <th>state</th>\n",
       "      <th>backers</th>\n",
       "      <th>country</th>\n",
       "      <th>usd pledged</th>\n",
       "      <th>usd_pledged_real</th>\n",
       "      <th>usd_goal_real</th>\n",
       "    </tr>\n",
       "    <tr>\n",
       "      <th>ID</th>\n",
       "      <th></th>\n",
       "      <th></th>\n",
       "      <th></th>\n",
       "      <th></th>\n",
       "      <th></th>\n",
       "      <th></th>\n",
       "      <th></th>\n",
       "      <th></th>\n",
       "      <th></th>\n",
       "      <th></th>\n",
       "      <th></th>\n",
       "      <th></th>\n",
       "      <th></th>\n",
       "      <th></th>\n",
       "    </tr>\n",
       "  </thead>\n",
       "  <tbody>\n",
       "    <tr>\n",
       "      <th>848191936</th>\n",
       "      <td>Halley Helmet Rack The place your motorcycle h...</td>\n",
       "      <td>Product Design</td>\n",
       "      <td>Design</td>\n",
       "      <td>EUR</td>\n",
       "      <td>2017-12-22</td>\n",
       "      <td>2000.0</td>\n",
       "      <td>2017-11-21 17:22:12</td>\n",
       "      <td>13802.0</td>\n",
       "      <td>successful</td>\n",
       "      <td>95</td>\n",
       "      <td>ES</td>\n",
       "      <td>2962.71</td>\n",
       "      <td>16359.48</td>\n",
       "      <td>2370.60</td>\n",
       "    </tr>\n",
       "    <tr>\n",
       "      <th>1282481409</th>\n",
       "      <td>Journey From Tree To Kazoo - An American Folk ...</td>\n",
       "      <td>Documentary</td>\n",
       "      <td>Film &amp; Video</td>\n",
       "      <td>USD</td>\n",
       "      <td>2012-02-08</td>\n",
       "      <td>3000.0</td>\n",
       "      <td>2012-01-09 21:35:54</td>\n",
       "      <td>200.0</td>\n",
       "      <td>failed</td>\n",
       "      <td>5</td>\n",
       "      <td>US</td>\n",
       "      <td>200.00</td>\n",
       "      <td>200.00</td>\n",
       "      <td>3000.00</td>\n",
       "    </tr>\n",
       "    <tr>\n",
       "      <th>1315252235</th>\n",
       "      <td>Life In Afghanistan Board Game</td>\n",
       "      <td>Tabletop Games</td>\n",
       "      <td>Games</td>\n",
       "      <td>CAD</td>\n",
       "      <td>2016-09-21</td>\n",
       "      <td>4500.0</td>\n",
       "      <td>2016-08-22 21:45:24</td>\n",
       "      <td>0.0</td>\n",
       "      <td>canceled</td>\n",
       "      <td>0</td>\n",
       "      <td>CA</td>\n",
       "      <td>0.00</td>\n",
       "      <td>0.00</td>\n",
       "      <td>3450.39</td>\n",
       "    </tr>\n",
       "    <tr>\n",
       "      <th>654828971</th>\n",
       "      <td>Multibru - a versatile manual brewer for both ...</td>\n",
       "      <td>Product Design</td>\n",
       "      <td>Design</td>\n",
       "      <td>USD</td>\n",
       "      <td>2014-09-23</td>\n",
       "      <td>35000.0</td>\n",
       "      <td>2014-08-20 21:43:47</td>\n",
       "      <td>11060.0</td>\n",
       "      <td>failed</td>\n",
       "      <td>98</td>\n",
       "      <td>US</td>\n",
       "      <td>11060.00</td>\n",
       "      <td>11060.00</td>\n",
       "      <td>35000.00</td>\n",
       "    </tr>\n",
       "    <tr>\n",
       "      <th>2012933132</th>\n",
       "      <td>Greg Hastings' Tournament Paintball Max'd 2</td>\n",
       "      <td>Video Games</td>\n",
       "      <td>Games</td>\n",
       "      <td>USD</td>\n",
       "      <td>2013-01-19</td>\n",
       "      <td>643000.0</td>\n",
       "      <td>2012-11-20 18:01:19</td>\n",
       "      <td>1553.0</td>\n",
       "      <td>failed</td>\n",
       "      <td>65</td>\n",
       "      <td>US</td>\n",
       "      <td>1553.00</td>\n",
       "      <td>1553.00</td>\n",
       "      <td>643000.00</td>\n",
       "    </tr>\n",
       "  </tbody>\n",
       "</table>\n",
       "</div>"
      ],
      "text/plain": [
       "                                                         name  ... usd_goal_real\n",
       "ID                                                             ...              \n",
       "848191936   Halley Helmet Rack The place your motorcycle h...  ...       2370.60\n",
       "1282481409  Journey From Tree To Kazoo - An American Folk ...  ...       3000.00\n",
       "1315252235                     Life In Afghanistan Board Game  ...       3450.39\n",
       "654828971   Multibru - a versatile manual brewer for both ...  ...      35000.00\n",
       "2012933132        Greg Hastings' Tournament Paintball Max'd 2  ...     643000.00\n",
       "\n",
       "[5 rows x 14 columns]"
      ]
     },
     "execution_count": 8,
     "metadata": {
      "tags": []
     },
     "output_type": "execute_result"
    }
   ],
   "source": [
    "df.sample(5)"
   ]
  },
  {
   "cell_type": "code",
   "execution_count": 9,
   "metadata": {
    "colab": {
     "base_uri": "https://localhost:8080/",
     "height": 35
    },
    "id": "nsysWKpZePVV",
    "outputId": "7b3f4404-c2e4-4e80-d4c4-21cdb7b1f647"
   },
   "outputs": [
    {
     "data": {
      "text/plain": [
       "(378661, 14)"
      ]
     },
     "execution_count": 9,
     "metadata": {
      "tags": []
     },
     "output_type": "execute_result"
    }
   ],
   "source": [
    "df.shape"
   ]
  },
  {
   "cell_type": "code",
   "execution_count": 10,
   "metadata": {
    "colab": {
     "base_uri": "https://localhost:8080/",
     "height": 139
    },
    "id": "evqx3X9KePVY",
    "outputId": "06f36970-e855-4115-89b9-aeb9a11f9cdc"
   },
   "outputs": [
    {
     "data": {
      "text/plain": [
       "failed        197719\n",
       "successful    133956\n",
       "canceled       38779\n",
       "undefined       3562\n",
       "live            2799\n",
       "suspended       1846\n",
       "Name: state, dtype: int64"
      ]
     },
     "execution_count": 10,
     "metadata": {
      "tags": []
     },
     "output_type": "execute_result"
    }
   ],
   "source": [
    "df.state.value_counts()"
   ]
  },
  {
   "cell_type": "code",
   "execution_count": 11,
   "metadata": {
    "colab": {
     "base_uri": "https://localhost:8080/",
     "height": 381
    },
    "id": "wObEAm2JePVb",
    "outputId": "8da4c922-c1e0-4b2e-df7d-55d623f3c317"
   },
   "outputs": [
    {
     "name": "stdout",
     "output_type": "stream",
     "text": [
      "<class 'pandas.core.frame.DataFrame'>\n",
      "Int64Index: 378661 entries, 1000002330 to 999988282\n",
      "Data columns (total 14 columns):\n",
      " #   Column            Non-Null Count   Dtype  \n",
      "---  ------            --------------   -----  \n",
      " 0   name              378657 non-null  object \n",
      " 1   category          378661 non-null  object \n",
      " 2   main_category     378661 non-null  object \n",
      " 3   currency          378661 non-null  object \n",
      " 4   deadline          378661 non-null  object \n",
      " 5   goal              378661 non-null  float64\n",
      " 6   launched          378661 non-null  object \n",
      " 7   pledged           378661 non-null  float64\n",
      " 8   state             378661 non-null  object \n",
      " 9   backers           378661 non-null  int64  \n",
      " 10  country           378661 non-null  object \n",
      " 11  usd pledged       374864 non-null  float64\n",
      " 12  usd_pledged_real  378661 non-null  float64\n",
      " 13  usd_goal_real     378661 non-null  float64\n",
      "dtypes: float64(5), int64(1), object(8)\n",
      "memory usage: 43.3+ MB\n"
     ]
    }
   ],
   "source": [
    "df.info()"
   ]
  },
  {
   "cell_type": "code",
   "execution_count": 12,
   "metadata": {
    "colab": {
     "base_uri": "https://localhost:8080/",
     "height": 35
    },
    "id": "6ozvobRpePVf",
    "outputId": "511a1ed0-1176-4a73-c3f2-f50ddb41cf4f"
   },
   "outputs": [
    {
     "name": "stdout",
     "output_type": "stream",
     "text": [
      "The answer for Q1.1 is: 3801\n"
     ]
    }
   ],
   "source": [
    "ans(1.1, df.isna().sum().sum())\n",
    "df.dropna(inplace=True)"
   ]
  },
  {
   "cell_type": "code",
   "execution_count": 13,
   "metadata": {
    "colab": {
     "base_uri": "https://localhost:8080/",
     "height": 35
    },
    "id": "u3-FKowoePVi",
    "outputId": "a03a9942-c292-4abb-9442-35e0202cf900"
   },
   "outputs": [
    {
     "name": "stdout",
     "output_type": "stream",
     "text": [
      "The answer for Q1.2 is: 133851\n"
     ]
    }
   ],
   "source": [
    "df = df.drop(df[df.state.isin([\"undefined\", \"live\", \"suspended\"])].index)\n",
    "df['state'] = df.state.apply(lambda x: 1 if x == \"successful\" else 0)\n",
    "ans(1.2, len(df[df.state == 1]))"
   ]
  },
  {
   "cell_type": "code",
   "execution_count": 14,
   "metadata": {
    "id": "76Y27Bf9ePVm"
   },
   "outputs": [],
   "source": [
    "explore_df = df.copy()\n",
    "explore_df['avg_paycheck'] = explore_df.apply(lambda row: row['usd_pledged_real'] / row['backers'] if row['backers'] else 0, axis=1)"
   ]
  },
  {
   "cell_type": "code",
   "execution_count": 15,
   "metadata": {
    "colab": {
     "base_uri": "https://localhost:8080/",
     "height": 35
    },
    "id": "7wS0f8hTePVo",
    "outputId": "46e9ba2e-19c6-469f-beff-717d6a9c7dbf"
   },
   "outputs": [
    {
     "name": "stdout",
     "output_type": "stream",
     "text": [
      "The answer for Q1.3 is: Patented (9 seasons) food enhancer\n"
     ]
    }
   ],
   "source": [
    "ans(1.3, explore_df[explore_df.avg_paycheck == explore_df.avg_paycheck.max()].iloc[0]['name'])"
   ]
  },
  {
   "cell_type": "code",
   "execution_count": 16,
   "metadata": {
    "colab": {
     "base_uri": "https://localhost:8080/",
     "height": 35
    },
    "id": "VW10wvTQePVr",
    "outputId": "014c4535-c3a0-4fa7-be09-79c56f5fb14c"
   },
   "outputs": [
    {
     "name": "stdout",
     "output_type": "stream",
     "text": [
      "The answer for Q1.4 is: Chiptune\n"
     ]
    }
   ],
   "source": [
    "ans(1.4, explore_df.groupby('category')['state'].mean().idxmax())"
   ]
  },
  {
   "cell_type": "code",
   "execution_count": 17,
   "metadata": {
    "colab": {
     "base_uri": "https://localhost:8080/",
     "height": 35
    },
    "id": "F4jWdrTfePVv",
    "outputId": "d699b9a8-8ac1-47a3-a02e-7c6dbd19bc64"
   },
   "outputs": [
    {
     "name": "stdout",
     "output_type": "stream",
     "text": [
      "The answer for Q1.5 is: 1\n"
     ]
    }
   ],
   "source": [
    "explore_df.groupby('category')['goal'].mean().idxmax()\n",
    "\n",
    "ans(1.5, 1)"
   ]
  },
  {
   "cell_type": "code",
   "execution_count": 18,
   "metadata": {
    "colab": {
     "base_uri": "https://localhost:8080/",
     "height": 35
    },
    "id": "AQw1u5bJePVy",
    "outputId": "1afe17e4-c9e5-4cbc-e0b8-d16a2ce2feac"
   },
   "outputs": [
    {
     "name": "stdout",
     "output_type": "stream",
     "text": [
      "The answer for Q1.6 is: Product Design\n"
     ]
    }
   ],
   "source": [
    "ans(1.6, explore_df.groupby('category')['usd_pledged_real'].sum().idxmax())"
   ]
  },
  {
   "cell_type": "code",
   "execution_count": 19,
   "metadata": {
    "colab": {
     "base_uri": "https://localhost:8080/",
     "height": 35
    },
    "id": "2jqcLv9-ePV3",
    "outputId": "ea7bd468-0f43-4bc8-99c5-a84f45d38bac"
   },
   "outputs": [
    {
     "name": "stdout",
     "output_type": "stream",
     "text": [
      "The answer for Q1.7 is: 7\n"
     ]
    }
   ],
   "source": [
    "object_type_features_list = list(explore_df.dtypes[explore_df.dtypes == \"object\"].index)\n",
    "numeric_features_list = list(explore_df.dtypes[~explore_df.dtypes.index.isin(object_type_features_list)].index)\n",
    "\n",
    "ans(1.7, len(object_type_features_list))"
   ]
  },
  {
   "cell_type": "code",
   "execution_count": 20,
   "metadata": {
    "colab": {
     "base_uri": "https://localhost:8080/",
     "height": 35
    },
    "id": "BzYxqsFPePV6",
    "outputId": "834bfa1d-18b7-4e70-b9d7-fa2d3bdde68b"
   },
   "outputs": [
    {
     "name": "stdout",
     "output_type": "stream",
     "text": [
      "The answer for Q1.8 is: 24502\n"
     ]
    }
   ],
   "source": [
    "explore_df['pledge2goal'] = explore_df.usd_pledged_real / explore_df.goal\n",
    "\n",
    "q25 = explore_df.pledge2goal.quantile(q=0.25)\n",
    "q75 = explore_df.pledge2goal.quantile(q=0.75)\n",
    "iqr = q75 - q25\n",
    "\n",
    "outliers = explore_df[(explore_df.pledge2goal < (q25 - iqr)) | (explore_df.pledge2goal > (q75 + iqr))]\n",
    "ans(1.8, len(outliers))\n",
    "explore_df = explore_df[(explore_df.pledge2goal >(q25 - iqr)) & (explore_df.pledge2goal < (q75 + iqr))]"
   ]
  },
  {
   "cell_type": "code",
   "execution_count": 21,
   "metadata": {
    "colab": {
     "base_uri": "https://localhost:8080/",
     "height": 285
    },
    "id": "nUh2-RB5ePV8",
    "outputId": "8e77a542-8799-4e29-96c1-4508357ec8dd"
   },
   "outputs": [
    {
     "name": "stdout",
     "output_type": "stream",
     "text": [
      "The answer for Q1.9 is: B\n"
     ]
    },
    {
     "data": {
      "image/png": "[encoded data removed]",
      "text/plain": [
       "<Figure size 432x288 with 1 Axes>"
      ]
     },
     "metadata": {
      "needs_background": "light",
      "tags": []
     },
     "output_type": "display_data"
    }
   ],
   "source": [
    "explore_df.pledge2goal.hist(bins=20) \n",
    "\n",
    "ans(1.9, \"B\")"
   ]
  },
  {
   "cell_type": "code",
   "execution_count": 22,
   "metadata": {
    "colab": {
     "base_uri": "https://localhost:8080/",
     "height": 35
    },
    "id": "BELKe_XLePV_",
    "outputId": "32610f18-34ea-4ac8-85be-33836bbb1dc1"
   },
   "outputs": [
    {
     "name": "stdout",
     "output_type": "stream",
     "text": [
      "The answer for Q1.1 is: [0.0, 1.0]\n"
     ]
    }
   ],
   "source": [
    "ans(1.10, [explore_df.pledge2goal.value_counts().sort_values().idxmax(), explore_df.pledge2goal.value_counts().sort_values().iloc[:-1].idxmax()])"
   ]
  },
  {
   "cell_type": "code",
   "execution_count": 23,
   "metadata": {
    "colab": {
     "base_uri": "https://localhost:8080/",
     "height": 35
    },
    "id": "M4mYFWsIePWC",
    "outputId": "74ddd2a4-3490-4262-af3c-762c0f88abb1"
   },
   "outputs": [
    {
     "name": "stdout",
     "output_type": "stream",
     "text": [
      "The answer for Q1.11 is: 0.9210640126284639\n"
     ]
    }
   ],
   "source": [
    "ans(1.11, explore_df[['state', 'pledge2goal']].corr(method=\"pearson\").iloc[0]['pledge2goal'])"
   ]
  },
  {
   "cell_type": "code",
   "execution_count": 24,
   "metadata": {
    "colab": {
     "base_uri": "https://localhost:8080/",
     "height": 462
    },
    "id": "RoY8SMEUePWF",
    "outputId": "b79d747a-647c-4fe5-d794-8a38897e8e5f"
   },
   "outputs": [
    {
     "name": "stderr",
     "output_type": "stream",
     "text": [
      "/usr/local/lib/python3.6/dist-packages/pandas/core/frame.py:4169: SettingWithCopyWarning: \n",
      "A value is trying to be set on a copy of a slice from a DataFrame\n",
      "\n",
      "See the caveats in the documentation: https://pandas.pydata.org/pandas-docs/stable/user_guide/indexing.html#returning-a-view-versus-a-copy\n",
      "  errors=errors,\n"
     ]
    },
    {
     "name": "stdout",
     "output_type": "stream",
     "text": [
      "The answer for Q1.12 is: pledge_2_goal and avg_paycheck seem pretty disconnected from other features, given success\n"
     ]
    },
    {
     "data": {
      "image/png": "[encoded data removed]",
      "text/plain": [
       "<Figure size 432x288 with 2 Axes>"
      ]
     },
     "metadata": {
      "needs_background": "light",
      "tags": []
     },
     "output_type": "display_data"
    }
   ],
   "source": [
    "numeric_features = explore_df[numeric_features_list]\n",
    "numeric_successful = numeric_features[numeric_features['state'] == 1]\n",
    "numeric_successful.drop(columns=['state'], inplace=True)\n",
    "\n",
    "sns.heatmap(numeric_successful.corr());\n",
    "\n",
    "ans(1.12, \"pledge_2_goal and avg_paycheck seem pretty disconnected from other features, given success\")"
   ]
  },
  {
   "cell_type": "code",
   "execution_count": 25,
   "metadata": {
    "colab": {
     "base_uri": "https://localhost:8080/",
     "height": 35
    },
    "id": "ZQFuyDmyePWI",
    "outputId": "4f1313b5-722f-4575-8140-1498a90b06a3"
   },
   "outputs": [
    {
     "name": "stdout",
     "output_type": "stream",
     "text": [
      "The answer for Q2.1 is: 41109\n"
     ]
    }
   ],
   "source": [
    "df['year_launched'] = pd.to_datetime(df.launched).apply(lambda date: date.year)\n",
    "\n",
    "ans(2.1, len(df[df['year_launched'] == 2012]))"
   ]
  },
  {
   "cell_type": "code",
   "execution_count": 26,
   "metadata": {
    "id": "Wflz2Xe-ePWL"
   },
   "outputs": [],
   "source": [
    "df['launched'] = pd.to_datetime(explore_df.launched).apply(lambda date: date.date())\n",
    "df['deadline'] = pd.to_datetime(explore_df.deadline).apply(lambda date: date.date())\n",
    "df['duration_days'] = (df['deadline'] - df['launched']).apply(lambda days: days.days)\n",
    "df.dropna(inplace=True)"
   ]
  },
  {
   "cell_type": "code",
   "execution_count": 27,
   "metadata": {
    "colab": {
     "base_uri": "https://localhost:8080/",
     "height": 35
    },
    "id": "Vq4tIQkOePWN",
    "outputId": "b76bb1c9-687a-4f81-b7e7-ec1eec689514"
   },
   "outputs": [
    {
     "name": "stdout",
     "output_type": "stream",
     "text": [
      "The answer for Q2.2 is: 30.0\n"
     ]
    }
   ],
   "source": [
    "ans(2.2, df['duration_days'].median())"
   ]
  },
  {
   "cell_type": "code",
   "execution_count": 29,
   "metadata": {
    "colab": {
     "base_uri": "https://localhost:8080/",
     "height": 35
    },
    "id": "RxGrIjxCePWS",
    "outputId": "16f66b59-d978-4798-8364-c99ea0e7ffd5"
   },
   "outputs": [
    {
     "name": "stdout",
     "output_type": "stream",
     "text": [
      "The answer for Q2.4 is: oceania\n"
     ]
    }
   ],
   "source": [
    "def find_region(country):\n",
    "    if country in [\"US\", \"CA\", \"MX\"]:\n",
    "        return \"america\"\n",
    "    elif country in [\"SG\", \"JP\", \"HK\"]:\n",
    "        return \"asia\"\n",
    "    elif country in [\"AU\", \"NZ\"]:\n",
    "        return \"oceania\"\n",
    "    else:\n",
    "        return \"europe\"\n",
    "\n",
    "df['region'] = df['country'].apply(find_region)\n",
    "\n",
    "worst_conversion_rate_region = df.groupby('region')['state'].mean().idxmin()\n",
    "\n",
    "ans(2.4, worst_conversion_rate_region)"
   ]
  },
  {
   "cell_type": "code",
   "execution_count": 30,
   "metadata": {
    "colab": {
     "base_uri": "https://localhost:8080/",
     "height": 211
    },
    "id": "wsn88R-jePWU",
    "outputId": "63b43cb4-3855-4a86-9b6c-6242ef19e9d7"
   },
   "outputs": [
    {
     "name": "stderr",
     "output_type": "stream",
     "text": [
      "/usr/local/lib/python3.6/dist-packages/ipykernel_launcher.py:3: FutureWarning: Indexing with multiple keys (implicitly converted to a tuple of keys) will be deprecated, use a list instead.\n",
      "  This is separate from the ipykernel package so we can avoid doing imports until\n",
      "  0%|          | 0/15 [00:00<?, ?it/s]/usr/local/lib/python3.6/dist-packages/ipykernel_launcher.py:15: SettingWithCopyWarning: \n",
      "A value is trying to be set on a copy of a slice from a DataFrame.\n",
      "Try using .loc[row_indexer,col_indexer] = value instead\n",
      "\n",
      "See the caveats in the documentation: https://pandas.pydata.org/pandas-docs/stable/user_guide/indexing.html#returning-a-view-versus-a-copy\n",
      "  from ipykernel import kernelapp as app\n",
      "100%|██████████| 15/15 [00:00<00:00, 24.21it/s]\n"
     ]
    },
    {
     "name": "stdout",
     "output_type": "stream",
     "text": [
      "The answer for Q2.5 is: Product Design\n"
     ]
    }
   ],
   "source": [
    "import tqdm\n",
    "category_frame = df.groupby(['main_category'])['category'].value_counts().to_frame().rename(columns={'category': 'category_count'}).reset_index()\n",
    "largest = category_frame.groupby(['main_category'])['category', 'category_count'].apply(pd.DataFrame.nlargest, n=3, columns=['category_count']).reset_index().drop(columns={'level_1'})\n",
    "\n",
    "category_dict = largest[['main_category', 'category']].groupby(['main_category'])['category'].apply(list).to_dict()\n",
    "\n",
    "concat_frames = []\n",
    "for key, category_list in tqdm.tqdm(category_dict.items()):\n",
    "  current_frame = df[df['main_category'] == key]\n",
    "\n",
    "  popular_frame = current_frame[current_frame['category'].isin(category_list)]\n",
    "  other_frame = current_frame[~current_frame['category'].isin(category_list)]\n",
    "\n",
    "  number_other = other_frame.shape[0]\n",
    "  other_frame['category'] =  np.repeat(['Other'], repeats=number_other) \n",
    "\n",
    "  frame = pd.concat([popular_frame, other_frame])\n",
    "  concat_frames.append(frame)\n",
    "\n",
    "df = pd.concat(concat_frames)\n",
    "\n",
    "ans(2.5, df[df['main_category'] == 'Design']['category'].mode()[0])"
   ]
  },
  {
   "cell_type": "code",
   "execution_count": 31,
   "metadata": {
    "colab": {
     "base_uri": "https://localhost:8080/",
     "height": 35
    },
    "id": "8lbgZNhpePWX",
    "outputId": "569217fe-8d81-4aa9-d667-e192e645ce35"
   },
   "outputs": [
    {
     "name": "stdout",
     "output_type": "stream",
     "text": [
      "The answer for Q2.6 is: 96\n"
     ]
    }
   ],
   "source": [
    "df['name_length'] = df['name'].apply(lambda name: len(name))\n",
    "ans(2.6, df.name_length.max())"
   ]
  },
  {
   "cell_type": "code",
   "execution_count": 32,
   "metadata": {
    "colab": {
     "base_uri": "https://localhost:8080/",
     "height": 451
    },
    "id": "EI0vBLICePWa",
    "outputId": "2dbebf4f-732d-4a43-e5ee-8dc9ee93c220"
   },
   "outputs": [
    {
     "name": "stdout",
     "output_type": "stream",
     "text": [
      "<class 'pandas.core.frame.DataFrame'>\n",
      "Int64Index: 345717 entries, 1000120287 to 998134859\n",
      "Data columns (total 18 columns):\n",
      " #   Column            Non-Null Count   Dtype  \n",
      "---  ------            --------------   -----  \n",
      " 0   name              345717 non-null  object \n",
      " 1   category          345717 non-null  object \n",
      " 2   main_category     345717 non-null  object \n",
      " 3   currency          345717 non-null  object \n",
      " 4   deadline          345717 non-null  object \n",
      " 5   goal              345717 non-null  float64\n",
      " 6   launched          345717 non-null  object \n",
      " 7   pledged           345717 non-null  float64\n",
      " 8   state             345717 non-null  int64  \n",
      " 9   backers           345717 non-null  int64  \n",
      " 10  country           345717 non-null  object \n",
      " 11  usd pledged       345717 non-null  float64\n",
      " 12  usd_pledged_real  345717 non-null  float64\n",
      " 13  usd_goal_real     345717 non-null  float64\n",
      " 14  year_launched     345717 non-null  int64  \n",
      " 15  duration_days     345717 non-null  float64\n",
      " 16  region            345717 non-null  object \n",
      " 17  name_length       345717 non-null  int64  \n",
      "dtypes: float64(6), int64(4), object(8)\n",
      "memory usage: 50.1+ MB\n"
     ]
    }
   ],
   "source": [
    "df.info()"
   ]
  },
  {
   "cell_type": "code",
   "execution_count": 33,
   "metadata": {
    "id": "GLMtrZOEePWc"
   },
   "outputs": [],
   "source": [
    "df = df.drop(columns=['pledged', 'backers', 'usd pledged', 'usd_pledged_real'])"
   ]
  },
  {
   "cell_type": "code",
   "execution_count": 34,
   "metadata": {
    "colab": {
     "base_uri": "https://localhost:8080/",
     "height": 381
    },
    "id": "kkll1oBLePWe",
    "outputId": "8522b281-cef5-4d97-ff10-d55bee742515"
   },
   "outputs": [
    {
     "name": "stdout",
     "output_type": "stream",
     "text": [
      "<class 'pandas.core.frame.DataFrame'>\n",
      "Int64Index: 345717 entries, 1000120287 to 998134859\n",
      "Data columns (total 14 columns):\n",
      " #   Column         Non-Null Count   Dtype  \n",
      "---  ------         --------------   -----  \n",
      " 0   name           345717 non-null  object \n",
      " 1   category       345717 non-null  object \n",
      " 2   main_category  345717 non-null  object \n",
      " 3   currency       345717 non-null  object \n",
      " 4   deadline       345717 non-null  object \n",
      " 5   goal           345717 non-null  float64\n",
      " 6   launched       345717 non-null  object \n",
      " 7   state          345717 non-null  int64  \n",
      " 8   country        345717 non-null  object \n",
      " 9   usd_goal_real  345717 non-null  float64\n",
      " 10  year_launched  345717 non-null  int64  \n",
      " 11  duration_days  345717 non-null  float64\n",
      " 12  region         345717 non-null  object \n",
      " 13  name_length    345717 non-null  int64  \n",
      "dtypes: float64(3), int64(3), object(8)\n",
      "memory usage: 39.6+ MB\n"
     ]
    }
   ],
   "source": [
    "df.info()"
   ]
  },
  {
   "cell_type": "code",
   "execution_count": 35,
   "metadata": {
    "colab": {
     "base_uri": "https://localhost:8080/",
     "height": 295
    },
    "id": "o3muQfvoePWi",
    "outputId": "9e3de7c8-fc21-472f-f27c-490f5cead94b"
   },
   "outputs": [
    {
     "name": "stdout",
     "output_type": "stream",
     "text": [
      "<class 'pandas.core.frame.DataFrame'>\n",
      "Int64Index: 345717 entries, 1000120287 to 998134859\n",
      "Data columns (total 9 columns):\n",
      " #   Column         Non-Null Count   Dtype  \n",
      "---  ------         --------------   -----  \n",
      " 0   category       345717 non-null  object \n",
      " 1   main_category  345717 non-null  object \n",
      " 2   currency       345717 non-null  object \n",
      " 3   goal           345717 non-null  float64\n",
      " 4   state          345717 non-null  int64  \n",
      " 5   year_launched  345717 non-null  int64  \n",
      " 6   duration_days  345717 non-null  float64\n",
      " 7   region         345717 non-null  object \n",
      " 8   name_length    345717 non-null  int64  \n",
      "dtypes: float64(2), int64(3), object(4)\n",
      "memory usage: 26.4+ MB\n"
     ]
    }
   ],
   "source": [
    "df.drop(columns=['name', 'deadline', 'launched', 'country', 'usd_goal_real']).info()"
   ]
  },
  {
   "cell_type": "code",
   "execution_count": 36,
   "metadata": {
    "id": "UbJPzj71ePWk"
   },
   "outputs": [],
   "source": [
    "dropped_cat_features = df[['name', 'deadline', 'launched', 'country', 'usd_goal_real']]\n",
    "\n",
    "df.drop(columns=['name', 'deadline', 'launched', 'country', 'usd_goal_real'], inplace=True)"
   ]
  },
  {
   "cell_type": "code",
   "execution_count": 37,
   "metadata": {
    "id": "CqSdgh1oePWo"
   },
   "outputs": [],
   "source": [
    "df = df.join(pd.get_dummies(df.category, prefix='category'))\n",
    "df = df.join(pd.get_dummies(df.main_category, prefix='main_category'))\n",
    "df = df.join(pd.get_dummies(df.currency, prefix='currency'))\n",
    "df = df.join(pd.get_dummies(df.region, prefix='region'))"
   ]
  },
  {
   "cell_type": "code",
   "execution_count": 38,
   "metadata": {
    "id": "YABFgpk9ePWq"
   },
   "outputs": [],
   "source": [
    "df.drop(columns=['category', 'main_category', 'currency', 'region'], inplace=True)"
   ]
  },
  {
   "cell_type": "code",
   "execution_count": 39,
   "metadata": {
    "colab": {
     "base_uri": "https://localhost:8080/",
     "height": 35
    },
    "id": "B6dj_y9eePWs",
    "outputId": "af35d254-5b5a-4b95-9ec5-d7d078e0fafa"
   },
   "outputs": [
    {
     "name": "stdout",
     "output_type": "stream",
     "text": [
      "The answer for Q3.4 is: 83\n"
     ]
    }
   ],
   "source": [
    "ans(3.4, len(df.columns))"
   ]
  },
  {
   "cell_type": "code",
   "execution_count": 40,
   "metadata": {
    "id": "zWZtmN1jePWw"
   },
   "outputs": [],
   "source": [
    "from sklearn.model_selection import train_test_split\n",
    "\n",
    "X_train, X_test, y_train, y_test = train_test_split(df.drop(columns=['state']), df['state'], test_size=0.2, random_state=42)"
   ]
  },
  {
   "cell_type": "code",
   "execution_count": 41,
   "metadata": {
    "colab": {
     "base_uri": "https://localhost:8080/",
     "height": 35
    },
    "id": "fFI3IrKAePWz",
    "outputId": "438f1b31-40d2-4749-ab03-e2a0fb09ddd4"
   },
   "outputs": [
    {
     "name": "stdout",
     "output_type": "stream",
     "text": [
      "The answer for Q3.3 is: 22231\n"
     ]
    }
   ],
   "source": [
    "ans(3.3, y_test.value_counts()[1])"
   ]
  },
  {
   "cell_type": "code",
   "execution_count": 42,
   "metadata": {
    "id": "v0n9P4InePW2",
    "scrolled": true
   },
   "outputs": [],
   "source": [
    "from sklearn.preprocessing import StandardScaler\n",
    "\n",
    "scaler = StandardScaler()\n",
    "scaled_X_train = scaler.fit_transform(X_train.values)\n",
    "scaled_X_test = scaler.transform(X_test.values)\n",
    "\n",
    "scaled_X_train = pd.DataFrame(scaled_X_train, index=X_train.index, columns=X_train.columns)\n",
    "scaled_X_test = pd.DataFrame(scaled_X_test, index=X_test.index, columns=X_test.columns)"
   ]
  },
  {
   "cell_type": "code",
   "execution_count": 43,
   "metadata": {
    "id": "IX4IYmD_ePW4"
   },
   "outputs": [],
   "source": [
    "X_train = scaled_X_train\n",
    "X_test = scaled_X_test"
   ]
  },
  {
   "cell_type": "code",
   "execution_count": 44,
   "metadata": {
    "colab": {
     "base_uri": "https://localhost:8080/",
     "height": 35
    },
    "id": "B60PPX7SePW6",
    "outputId": "b360b456-ded1-4e00-d9ae-3ac9722c5921"
   },
   "outputs": [
    {
     "name": "stdout",
     "output_type": "stream",
     "text": [
      "The answer for Q3.4 is: 84.83303404858398\n"
     ]
    }
   ],
   "source": [
    "ans(3.4, max([X_test.goal.max(), X_train.goal.max()]))"
   ]
  },
  {
   "cell_type": "code",
   "execution_count": 45,
   "metadata": {
    "id": "du7uX3OtePW9"
   },
   "outputs": [],
   "source": [
    "from sklearn.feature_selection import f_classif, SelectKBest\n",
    "\n",
    "selector = SelectKBest(f_classif, k=2)\n",
    "selector.fit(X_train, y_train)\n",
    "cols = selector.get_support()\n",
    "two_best = []\n",
    "for index, column in enumerate(cols):\n",
    "    if column:\n",
    "        two_best.append(X_train.columns[index])"
   ]
  },
  {
   "cell_type": "code",
   "execution_count": 46,
   "metadata": {
    "colab": {
     "base_uri": "https://localhost:8080/",
     "height": 35
    },
    "id": "XW-lPAUtePW_",
    "outputId": "1e90a362-72a6-4be5-b912-9437e0bea4b7"
   },
   "outputs": [
    {
     "name": "stdout",
     "output_type": "stream",
     "text": [
      "The answer for Q4.3 is: ['main_category_Music', 'main_category_Technology']\n"
     ]
    }
   ],
   "source": [
    "ans(4.3, two_best)"
   ]
  },
  {
   "cell_type": "markdown",
   "metadata": {
    "id": "M82deHMXePXB"
   },
   "source": [
    "------"
   ]
  },
  {
   "cell_type": "code",
   "execution_count": 47,
   "metadata": {
    "colab": {
     "base_uri": "https://localhost:8080/",
     "height": 69
    },
    "id": "1JDnSA1xePXC",
    "outputId": "6d40375b-af02-4e73-ca7c-6b4c8e6421ae"
   },
   "outputs": [
    {
     "name": "stdout",
     "output_type": "stream",
     "text": [
      "Fitting 5 folds for each of 7 candidates, totalling 35 fits\n"
     ]
    },
    {
     "name": "stderr",
     "output_type": "stream",
     "text": [
      "[Parallel(n_jobs=-1)]: Using backend LokyBackend with 2 concurrent workers.\n",
      "[Parallel(n_jobs=-1)]: Done  35 out of  35 | elapsed:  1.4min finished\n"
     ]
    }
   ],
   "source": [
    "from sklearn.model_selection import GridSearchCV\n",
    "from sklearn.linear_model import LogisticRegression\n",
    "\n",
    "logistic_parameters = {'C': np.logspace(-2, 4, 7)}\n",
    "\n",
    "logistic_clf = LogisticRegression()\n",
    "logistic_clf = logistic_clf.fit(X_train, y_train)\n",
    "\n",
    "logistic_clf = GridSearchCV(logistic_clf, logistic_parameters, n_jobs = -1, verbose=1)\n",
    "logistic_clf = logistic_clf.fit(X_train, y_train)"
   ]
  },
  {
   "cell_type": "code",
   "execution_count": 48,
   "metadata": {
    "colab": {
     "base_uri": "https://localhost:8080/",
     "height": 35
    },
    "id": "caJAxLWkePXF",
    "outputId": "4eb5d08f-9d2b-4c58-8232-c89bd0cd0ddd"
   },
   "outputs": [
    {
     "name": "stdout",
     "output_type": "stream",
     "text": [
      "The answer for Q4.2 is: 1000.0\n"
     ]
    }
   ],
   "source": [
    "ans(4.2, logistic_clf.best_estimator_.C)"
   ]
  },
  {
   "cell_type": "code",
   "execution_count": 49,
   "metadata": {
    "colab": {
     "base_uri": "https://localhost:8080/",
     "height": 35
    },
    "id": "45CnDWNDePXI",
    "outputId": "09f69900-0c42-46f4-da51-11ea9fd962a4"
   },
   "outputs": [
    {
     "name": "stdout",
     "output_type": "stream",
     "text": [
      "The answer for Q4.3 is: 0.705903621427745\n"
     ]
    }
   ],
   "source": [
    "from sklearn.metrics import accuracy_score\n",
    "\n",
    "logistic_clf = logistic_clf.best_estimator_\n",
    "logistic_clf.fit(X_train, y_train)\n",
    "y_pred = logistic_clf.predict(X_test)\n",
    "accuracy = accuracy_score(y_test, y_pred)\n",
    "\n",
    "ans(4.3, accuracy)"
   ]
  },
  {
   "cell_type": "code",
   "execution_count": 50,
   "metadata": {
    "colab": {
     "base_uri": "https://localhost:8080/",
     "height": 87
    },
    "id": "HISgSLvqePXL",
    "outputId": "4264caba-1132-4362-ca94-a30d31f76dd1"
   },
   "outputs": [
    {
     "name": "stdout",
     "output_type": "stream",
     "text": [
      "Top 3 features are\n",
      "1: goal\n",
      "2: duration_days\n",
      "3: main_category_Theater\n"
     ]
    }
   ],
   "source": [
    "weights_dict = dict(zip(X_train.columns, logistic_clf.coef_[0]))\n",
    "weights_df = pd.DataFrame.from_dict(weights_dict, orient='index')\n",
    "weights_df = weights_df.apply(lambda x: abs(x))\n",
    "top_features = weights_df.sort_values(by=0, ascending=False).head(3).index\n",
    "print(\"Top 3 features are\")\n",
    "for idx, feature in enumerate(top_features):\n",
    "    print(f\"{idx + 1}: {feature}\")"
   ]
  },
  {
   "cell_type": "code",
   "execution_count": 51,
   "metadata": {
    "colab": {
     "base_uri": "https://localhost:8080/",
     "height": 139
    },
    "id": "VeOTdKR0ePXQ",
    "outputId": "d5991c19-898a-4b9d-c4f5-9213607639a6"
   },
   "outputs": [
    {
     "data": {
      "text/plain": [
       "array([[0.61168708, 0.38831292],\n",
       "       [0.46164453, 0.53835547],\n",
       "       [0.62709052, 0.37290948],\n",
       "       ...,\n",
       "       [0.4152598 , 0.5847402 ],\n",
       "       [0.89684945, 0.10315055],\n",
       "       [0.78366825, 0.21633175]])"
      ]
     },
     "execution_count": 51,
     "metadata": {
      "tags": []
     },
     "output_type": "execute_result"
    }
   ],
   "source": [
    "from sklearn.metrics import roc_auc_score, roc_curve\n",
    "probs = logistic_clf.predict_proba(X_test)\n",
    "probs"
   ]
  },
  {
   "cell_type": "code",
   "execution_count": 52,
   "metadata": {
    "id": "yMdDS004ePXS"
   },
   "outputs": [],
   "source": [
    "probs = [prob[1] for prob in probs]"
   ]
  },
  {
   "cell_type": "code",
   "execution_count": 53,
   "metadata": {
    "id": "_KoApuzAePXT"
   },
   "outputs": [],
   "source": [
    "roc_auc = roc_auc_score(y_test, probs)"
   ]
  },
  {
   "cell_type": "code",
   "execution_count": 54,
   "metadata": {
    "colab": {
     "base_uri": "https://localhost:8080/",
     "height": 301
    },
    "id": "upD7FrzuePXV",
    "outputId": "819ab214-b677-4d38-b32b-761a90308021"
   },
   "outputs": [
    {
     "data": {
      "image/png": "[encoded data removed]",
      "text/plain": [
       "<Figure size 432x288 with 1 Axes>"
      ]
     },
     "metadata": {
      "needs_background": "light",
      "tags": []
     },
     "output_type": "display_data"
    }
   ],
   "source": [
    "fpr, tpr, threshold = roc_curve(y_test, probs)\n",
    "\n",
    "plt.title('Receiver Operating Characteristic')\n",
    "plt.plot(fpr, tpr, 'b', label = 'AUC = %0.2f' % roc_auc)\n",
    "plt.legend(loc = 'lower right')\n",
    "plt.plot([0, 1], [0, 1],'r--')\n",
    "plt.xlim([0, 1])\n",
    "plt.ylim([0, 1])\n",
    "plt.ylabel('True Positive Rate')\n",
    "plt.xlabel('False Positive Rate')\n",
    "plt.show()"
   ]
  },
  {
   "cell_type": "code",
   "execution_count": 55,
   "metadata": {
    "colab": {
     "base_uri": "https://localhost:8080/",
     "height": 35
    },
    "id": "BBUd4IYvePXW",
    "outputId": "02f50c63-afa3-43ea-a987-07d5a1aaa200"
   },
   "outputs": [
    {
     "name": "stdout",
     "output_type": "stream",
     "text": [
      "The answer for Q4.5 is: 0.711607213596689\n"
     ]
    }
   ],
   "source": [
    "ans(4.5, roc_auc)"
   ]
  },
  {
   "cell_type": "code",
   "execution_count": 56,
   "metadata": {
    "id": "AhkB4s6eePXZ",
    "scrolled": true
   },
   "outputs": [],
   "source": [
    "from sklearn.ensemble import RandomForestClassifier\n",
    "\n",
    "forest_parameters = {\n",
    "    'n_estimators': [10, 20, 50, 100, 200],\n",
    "    'max_depth': list(range(2, 15)),\n",
    "    'random_state': [42]\n",
    "}\n",
    "\n",
    "rfclf = RandomForestClassifier()\n",
    "rfclf = rfclf.fit(X_train, y_train)\n",
    "\n",
    "rfclf = GridSearchCV(rfclf, forest_parameters, n_jobs = -1, verbose=1000)\n",
    "rfclf = rfclf.fit(X_train, y_train)"
   ]
  },
  {
   "cell_type": "code",
   "execution_count": 57,
   "metadata": {
    "colab": {
     "base_uri": "https://localhost:8080/",
     "height": 107
    },
    "id": "q7lnNyjZePXb",
    "outputId": "26c79cbc-e7a5-43d7-ea42-a340c5d849c7"
   },
   "outputs": [
    {
     "name": "stderr",
     "output_type": "stream",
     "text": [
      "/usr/local/lib/python3.6/dist-packages/sklearn/base.py:318: UserWarning: Trying to unpickle estimator DecisionTreeClassifier from version 0.23.2 when using version 0.22.2.post1. This might lead to breaking code or invalid results. Use at your own risk.\n",
      "  UserWarning)\n",
      "/usr/local/lib/python3.6/dist-packages/sklearn/base.py:318: UserWarning: Trying to unpickle estimator RandomForestClassifier from version 0.23.2 when using version 0.22.2.post1. This might lead to breaking code or invalid results. Use at your own risk.\n",
      "  UserWarning)\n"
     ]
    }
   ],
   "source": [
    "import pickle\n",
    "rfclf = pickle.load(open('/content/drive/My Drive/random_forest.sav', 'rb'))\n",
    "#pickle.dump(rfclf, open(\"random_forest.sav\", 'wb'))"
   ]
  },
  {
   "cell_type": "code",
   "execution_count": 58,
   "metadata": {
    "colab": {
     "base_uri": "https://localhost:8080/",
     "height": 35
    },
    "id": "YgDjDc2rePXd",
    "outputId": "d2ad17bf-2e24-4a43-c5f6-2162b0e318e0"
   },
   "outputs": [
    {
     "name": "stdout",
     "output_type": "stream",
     "text": [
      "The answer for Q4.7 is: [14, 100]\n"
     ]
    }
   ],
   "source": [
    "ans(4.7, [rfclf.max_depth, rfclf.n_estimators])"
   ]
  },
  {
   "cell_type": "code",
   "execution_count": 59,
   "metadata": {
    "colab": {
     "base_uri": "https://localhost:8080/",
     "height": 35
    },
    "id": "dzoonN5cePXf",
    "outputId": "d62d1036-b8f4-40a8-9633-fc1207b4b3b3"
   },
   "outputs": [
    {
     "name": "stdout",
     "output_type": "stream",
     "text": [
      "The answer for Q4.7 is: 0.7138435728335069\n"
     ]
    }
   ],
   "source": [
    "y_pred = rfclf.predict(X_test)\n",
    "ans(4.7, accuracy_score(y_test, y_pred))"
   ]
  },
  {
   "cell_type": "code",
   "execution_count": 60,
   "metadata": {
    "colab": {
     "base_uri": "https://localhost:8080/",
     "height": 285
    },
    "id": "BIMvQpksePXi",
    "outputId": "3845edcb-ee2e-443c-dffd-3f688a36940b"
   },
   "outputs": [
    {
     "data": {
      "image/png": "[encoded data removed]",
      "text/plain": [
       "<Figure size 432x288 with 1 Axes>"
      ]
     },
     "metadata": {
      "needs_background": "light",
      "tags": []
     },
     "output_type": "display_data"
    }
   ],
   "source": [
    "from sklearn.metrics import plot_precision_recall_curve\n",
    "plot_precision_recall_curve(rfclf, X_test, y_test);"
   ]
  },
  {
   "cell_type": "code",
   "execution_count": 61,
   "metadata": {
    "colab": {
     "base_uri": "https://localhost:8080/",
     "height": 35
    },
    "id": "TDIMYcYiePXk",
    "outputId": "54b96a9c-3e81-443f-f533-67af0f614bf6"
   },
   "outputs": [
    {
     "name": "stdout",
     "output_type": "stream",
     "text": [
      "The answer for Q4.8 is: 0.54\n"
     ]
    }
   ],
   "source": [
    "ans(4.8, 0.54)"
   ]
  },
  {
   "cell_type": "code",
   "execution_count": 62,
   "metadata": {
    "colab": {
     "base_uri": "https://localhost:8080/",
     "height": 87
    },
    "id": "QsJPh-mCePXm",
    "outputId": "9138b21f-12d5-46ac-8997-b364dd5d8f49"
   },
   "outputs": [
    {
     "name": "stdout",
     "output_type": "stream",
     "text": [
      "Top 3 features are\n",
      "1: goal\n",
      "2: duration_days\n",
      "3: year_launched\n"
     ]
    }
   ],
   "source": [
    "weights_dict = dict(zip(X_train.columns, rfclf.feature_importances_))\n",
    "weights_df = pd.DataFrame.from_dict(weights_dict, orient='index')\n",
    "weights_df = weights_df.apply(lambda x: abs(x))\n",
    "top_features = weights_df.sort_values(by=0, ascending=False).head(3).index\n",
    "print(\"Top 3 features are\")\n",
    "for idx, feature in enumerate(top_features):\n",
    "    print(f\"{idx + 1}: {feature}\")"
   ]
  },
  {
   "cell_type": "code",
   "execution_count": 63,
   "metadata": {
    "id": "aHyjVqzpePXo"
   },
   "outputs": [],
   "source": [
    "df['country'], df['category'] = explore_df['country'], explore_df['category'] # feature I\n",
    "df['country_category'] = df.apply(lambda row: f\"{row.country}_{row.category}\", axis=1)"
   ]
  },
  {
   "cell_type": "code",
   "execution_count": 64,
   "metadata": {
    "id": "owTcaPhEePXq"
   },
   "outputs": [],
   "source": [
    "from sklearn.preprocessing import LabelEncoder"
   ]
  },
  {
   "cell_type": "code",
   "execution_count": 65,
   "metadata": {
    "id": "vmz_58FIePXr"
   },
   "outputs": [],
   "source": [
    "le = LabelEncoder()\n",
    "le.fit(list(df['country_category'].astype(str).values))\n",
    "\n",
    "df['country_category'] = le.transform(list(df['country_category'].astype(str).values))"
   ]
  },
  {
   "cell_type": "code",
   "execution_count": 66,
   "metadata": {
    "id": "n5cP5wxtePXt"
   },
   "outputs": [],
   "source": [
    "df['daily_costs'] = df.goal / df.duration_days # feature 2"
   ]
  },
  {
   "cell_type": "code",
   "execution_count": 67,
   "metadata": {
    "id": "k4sBBkVfePXv"
   },
   "outputs": [],
   "source": [
    "df.drop(columns=['country', 'category', 'country_category'], inplace=True)"
   ]
  },
  {
   "cell_type": "code",
   "execution_count": 68,
   "metadata": {
    "id": "aLD2x90RePXx"
   },
   "outputs": [],
   "source": [
    "X_train, X_test, y_train, y_test = train_test_split(df.drop(columns=['state']), df['state'], test_size=0.2, random_state=42)\n",
    "\n",
    "scaler = StandardScaler()\n",
    "scaled_X_train = scaler.fit_transform(X_train.values)\n",
    "scaled_X_test = scaler.transform(X_test.values)\n",
    "\n",
    "scaled_X_train = pd.DataFrame(scaled_X_train, index=X_train.index, columns=X_train.columns)\n",
    "scaled_X_test = pd.DataFrame(scaled_X_test, index=X_test.index, columns=X_test.columns)"
   ]
  },
  {
   "cell_type": "code",
   "execution_count": 69,
   "metadata": {
    "id": "mZwPkDCYePXz"
   },
   "outputs": [],
   "source": [
    "import xgboost as xgb"
   ]
  },
  {
   "cell_type": "code",
   "execution_count": 70,
   "metadata": {
    "colab": {
     "base_uri": "https://localhost:8080/",
     "height": 139
    },
    "id": "O1i9Oyb1ePX2",
    "outputId": "51d52004-d773-4a57-a155-dfefbebbc337",
    "scrolled": true
   },
   "outputs": [
    {
     "data": {
      "text/plain": [
       "XGBClassifier(base_score=0.5, booster='gbtree', colsample_bylevel=1,\n",
       "              colsample_bynode=1, colsample_bytree=1, gamma=0,\n",
       "              learning_rate=0.1, max_delta_step=0, max_depth=3,\n",
       "              min_child_weight=1, missing=None, n_estimators=100, n_jobs=1,\n",
       "              nthread=None, objective='binary:logistic', random_state=0,\n",
       "              reg_alpha=0, reg_lambda=1, scale_pos_weight=1, seed=None,\n",
       "              silent=None, subsample=1, three_method='gpu_hist', verbosity=1)"
      ]
     },
     "execution_count": 70,
     "metadata": {
      "tags": []
     },
     "output_type": "execute_result"
    }
   ],
   "source": [
    "xgb_model = xgb.XGBClassifier(three_method=\"gpu_hist\")\n",
    "xgb_model.fit(X_train, y_train)"
   ]
  },
  {
   "cell_type": "code",
   "execution_count": null,
   "metadata": {
    "id": "B2avtI65ePX5"
   },
   "outputs": [],
   "source": [
    "parameters = {'nthread':[4],\n",
    "              'objective':['binary:logistic'],\n",
    "              'learning_rate': [0.1],\n",
    "              'max_depth': list(range(2, 15, 2)),\n",
    "              'min_child_weight': [11],\n",
    "              'silent': [1],\n",
    "              'subsample': [0.8],\n",
    "              'colsample_bytree': [0.7],\n",
    "              'n_estimators': [10, 20, 50, 100, 200],\n",
    "              'missing':[-999],\n",
    "              'seed': [42]}\n",
    "\n",
    "clf = GridSearchCV(xgb_model, parameters, scoring='roc_auc', verbose=1000, refit=True, n_jobs=-1)\n",
    "clf.fit(X_train, y_train)"
   ]
  },
  {
   "cell_type": "code",
   "execution_count": 74,
   "metadata": {
    "id": "s46jlc2qePX6"
   },
   "outputs": [],
   "source": [
    "clf = clf.best_estimator_"
   ]
  },
  {
   "cell_type": "code",
   "execution_count": 75,
   "metadata": {
    "colab": {
     "base_uri": "https://localhost:8080/",
     "height": 35
    },
    "id": "ESKeCTHnePX8",
    "outputId": "92e7fd34-7ed7-4dfc-8dda-82eb1c176bfc"
   },
   "outputs": [
    {
     "data": {
      "text/plain": [
       "0.7219136873770682"
      ]
     },
     "execution_count": 75,
     "metadata": {
      "tags": []
     },
     "output_type": "execute_result"
    }
   ],
   "source": [
    "y_pred = clf.predict(X_test)\n",
    "accuracy_score(y_test, y_pred)"
   ]
  },
  {
   "cell_type": "code",
   "execution_count": 76,
   "metadata": {
    "colab": {
     "base_uri": "https://localhost:8080/",
     "height": 285
    },
    "id": "UjJmtWwmePX9",
    "outputId": "752f2b5b-b10d-40fe-a9da-a40ded2e024a"
   },
   "outputs": [
    {
     "data": {
      "image/png": "[encoded data removed]",
      "text/plain": [
       "<Figure size 432x288 with 1 Axes>"
      ]
     },
     "metadata": {
      "needs_background": "light",
      "tags": []
     },
     "output_type": "display_data"
    }
   ],
   "source": [
    "from sklearn.metrics import plot_precision_recall_curve\n",
    "plot_precision_recall_curve(clf, X_test, y_test);"
   ]
  },
  {
   "cell_type": "code",
   "execution_count": 77,
   "metadata": {
    "colab": {
     "base_uri": "https://localhost:8080/",
     "height": 87
    },
    "id": "45oJepG6ePX_",
    "outputId": "24cc7c7d-076f-4f5e-9eac-7437cf189e26"
   },
   "outputs": [
    {
     "name": "stdout",
     "output_type": "stream",
     "text": [
      "Top 3 features are\n",
      "1: main_category_Theater\n",
      "2: main_category_Dance\n",
      "3: main_category_Music\n"
     ]
    }
   ],
   "source": [
    "weights_dict = dict(zip(X_train.columns, clf.feature_importances_))\n",
    "weights_df = pd.DataFrame.from_dict(weights_dict, orient='index')\n",
    "weights_df = weights_df.apply(lambda x: abs(x))\n",
    "top_features = weights_df.sort_values(by=0, ascending=False).head(3).index\n",
    "print(\"Top 3 features are\")\n",
    "for idx, feature in enumerate(top_features):\n",
    "    print(f\"{idx + 1}: {feature}\")"
   ]
  }
 ],
 "metadata": {
  "colab": {
   "collapsed_sections": [],
   "name": "assigment_2_reupload.ipynb",
   "provenance": []
  },
  "kernelspec": {
   "display_name": "Python 3",
   "language": "python",
   "name": "python3"
  },
  "language_info": {
   "codemirror_mode": {
    "name": "ipython",
    "version": 3
   },
   "file_extension": ".py",
   "mimetype": "text/x-python",
   "name": "python",
   "nbconvert_exporter": "python",
   "pygments_lexer": "ipython3",
   "version": "3.7.4"
  }
 },
 "nbformat": 4,
 "nbformat_minor": 1
}
